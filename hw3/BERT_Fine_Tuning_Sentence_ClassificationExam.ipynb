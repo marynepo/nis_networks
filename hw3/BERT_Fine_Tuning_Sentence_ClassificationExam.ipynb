{
  "cells": [
    {
      "cell_type": "markdown",
      "metadata": {
        "id": "EKOTlwcmxmej"
      },
      "source": [
        "# BERT Fine-Tuning Tutorial with PyTorch\n",
        "\n",
        "By Chris McCormick and Nick Ryan"
      ]
    },
    {
      "cell_type": "markdown",
      "metadata": {
        "id": "MPgpITmdwvX0"
      },
      "source": [
        "*Revised on 12/13/19 to use the new [transformers](https://github.com/huggingface/transformers) interface.*\n",
        "\n",
        "\n"
      ]
    },
    {
      "cell_type": "markdown",
      "metadata": {
        "id": "BJR6t_gCQe_x"
      },
      "source": [
        "In this tutorial I'll show you how to use BERT with the huggingface PyTorch library to quickly and efficiently fine-tune a model to get near state of the art performance in sentence classification. More broadly, I describe the practical application of transfer learning in NLP to create high performance models with minimal effort on a range of NLP tasks.\n",
        "\n",
        "This post is presented in two forms--as a blog post [here](http://mccormickml.com/2019/07/22/BERT-fine-tuning/) and as a Colab Notebook [here](https://colab.research.google.com/drive/1Y4o3jh3ZH70tl6mCd76vz_IxX23biCPP). \n",
        "\n",
        "The content is identical in both, but: \n",
        "* The blog post includes a comments section for discussion. \n",
        "* The Colab Notebook will allow you to run the code and inspect it as you read through.\n",
        "\n",
        "I've also published a video walkthrough of this post on my YouTube channel! [Part 1](https://youtu.be/x66kkDnbzi4) and [Part 2](https://youtu.be/Hnvb9b7a_Ps).\n",
        "\n"
      ]
    },
    {
      "cell_type": "markdown",
      "metadata": {
        "id": "ADkUGTqixRWo"
      },
      "source": [
        "# Introduction"
      ]
    },
    {
      "cell_type": "markdown",
      "metadata": {
        "id": "L9vxxTBsuL24"
      },
      "source": [
        "\n",
        "## History\n",
        "\n",
        "2018 was a breakthrough year in NLP. Transfer learning, particularly models like Allen AI's ELMO, OpenAI's Open-GPT, and Google's BERT allowed researchers to smash multiple benchmarks with minimal task-specific fine-tuning and provided the rest of the NLP community with pretrained models that could easily (with less data and less compute time) be fine-tuned and implemented to produce state of the art results. Unfortunately, for many starting out in NLP and even for some experienced practicioners, the theory and practical application of these powerful models is still not well understood.\n"
      ]
    },
    {
      "cell_type": "markdown",
      "metadata": {
        "id": "qCgvR9INuP5q"
      },
      "source": [
        "\n",
        "## What is BERT?\n",
        "\n",
        "BERT (Bidirectional Encoder Representations from Transformers), released in late 2018, is the model we will use in this tutorial to provide readers with a better understanding of and practical guidance for using transfer learning models in NLP. BERT is a method of pretraining language representations that was used to create models that NLP practicioners can then download and use for free. You can either use these models to extract high quality language features from your text data, or you can fine-tune these models on a specific task (classification, entity recognition, question answering, etc.) with your own data to produce state of the art predictions.\n",
        "\n",
        "This post will explain how you can modify and fine-tune BERT to create a powerful NLP model that quickly gives you state of the art results. \n"
      ]
    },
    {
      "cell_type": "markdown",
      "metadata": {
        "id": "DaVGdtOkuXUZ"
      },
      "source": [
        "\n",
        "## Advantages of Fine-Tuning\n"
      ]
    },
    {
      "cell_type": "markdown",
      "metadata": {
        "id": "5llwu8GBuqMb"
      },
      "source": [
        "\n",
        "In this tutorial, we will use BERT to train a text classifier. Specifically, we will take the pre-trained BERT model, add an untrained layer of neurons on the end, and train the new model for our classification task. Why do this rather than train a train a specific deep learning model (a CNN, BiLSTM, etc.) that is well suited for the specific NLP task you need? \n",
        "\n",
        "1. **Quicker Development**\n",
        "\n",
        "    * First, the pre-trained BERT model weights already encode a lot of information about our language. As a result, it takes much less time to train our fine-tuned model - it is as if we have already trained the bottom layers of our network extensively and only need to gently tune them while using their output as features for our classification task. In fact, the authors recommend only 2-4 epochs of training for fine-tuning BERT on a specific NLP task (compared to the hundreds of GPU hours needed to train the original BERT model or a LSTM from scratch!). \n",
        "\n",
        "2. **Less Data**\n",
        "\n",
        "    * In addition and perhaps just as important, because of the pre-trained weights this method allows us to fine-tune our task on a much smaller dataset than would be required in a model that is built from scratch. A major drawback of NLP models built from scratch is that we often need a prohibitively large dataset in order to train our network to reasonable accuracy, meaning a lot of time and energy had to be put into dataset creation. By fine-tuning BERT, we are now able to get away with training a model to good performance on a much smaller amount of training data.\n",
        "\n",
        "3. **Better Results**\n",
        "\n",
        "    * Finally, this simple fine-tuning procedure (typically adding one fully-connected layer on top of BERT and training for a few epochs) was shown to achieve state of the art results with minimal task-specific adjustments for a wide variety of tasks: classification, language inference, semantic similarity, question answering, etc. Rather than implementing custom and sometimes-obscure architetures shown to work well on a specific task, simply fine-tuning BERT is shown to be a better (or at least equal) alternative.\n"
      ]
    },
    {
      "cell_type": "markdown",
      "metadata": {
        "id": "RX_ZDhicpHkV"
      },
      "source": [
        "# 1. Setup"
      ]
    },
    {
      "cell_type": "markdown",
      "metadata": {
        "id": "nSU7yERLP_66"
      },
      "source": [
        "## 1.1. Using Colab GPU for Training\n"
      ]
    },
    {
      "cell_type": "markdown",
      "metadata": {
        "id": "GI0iOY8zvZzL"
      },
      "source": [
        "\n",
        "Google Colab offers free GPUs and TPUs! Since we'll be training a large neural network it's best to take advantage of this (in this case we'll attach a GPU), otherwise training will take a very long time.\n",
        "\n",
        "A GPU can be added by going to the menu and selecting:\n",
        "\n",
        "`Edit 🡒 Notebook Settings 🡒 Hardware accelerator 🡒 (GPU)`\n",
        "\n",
        "Then run the following cell to confirm that the GPU is detected."
      ]
    },
    {
      "cell_type": "markdown",
      "metadata": {
        "id": "cqG7FzRVFEIv"
      },
      "source": [
        "In order for torch to use the GPU, we need to identify and specify the GPU as the device. Later, in our training loop, we will load data onto the device. "
      ]
    },
    {
      "cell_type": "code",
      "execution_count": 130,
      "metadata": {
        "colab": {
          "base_uri": "https://localhost:8080/"
        },
        "id": "oYsV4H8fCpZ-",
        "outputId": "e2747cba-c4a2-407a-9890-5ac977251f40"
      },
      "outputs": [
        {
          "output_type": "stream",
          "name": "stdout",
          "text": [
            "There are 1 GPU(s) available.\n",
            "We will use the GPU: Tesla K80\n"
          ]
        }
      ],
      "source": [
        "import torch\n",
        "\n",
        "# If there's a GPU available...\n",
        "if torch.cuda.is_available():    \n",
        "\n",
        "    # Tell PyTorch to use the GPU.    \n",
        "    device = torch.device(\"cuda\")\n",
        "\n",
        "    print('There are %d GPU(s) available.' % torch.cuda.device_count())\n",
        "\n",
        "    print('We will use the GPU:', torch.cuda.get_device_name(0))\n",
        "\n",
        "# If not...\n",
        "else:\n",
        "    print('No GPU available, using the CPU instead.')\n",
        "    device = torch.device(\"cpu\")"
      ]
    },
    {
      "cell_type": "markdown",
      "metadata": {
        "id": "2ElsnSNUridI"
      },
      "source": [
        "## 1.2. Installing the Hugging Face Library\n"
      ]
    },
    {
      "cell_type": "markdown",
      "metadata": {
        "id": "G_N2UDLevYWn"
      },
      "source": [
        "\n",
        "Next, let's install the [transformers](https://github.com/huggingface/transformers) package from Hugging Face which will give us a pytorch interface for working with BERT. (This library contains interfaces for other pretrained language models like OpenAI's GPT and GPT-2.) We've selected the pytorch interface because it strikes a nice balance between the high-level APIs (which are easy to use but don't provide insight into how things work) and tensorflow code (which contains lots of details but often sidetracks us into lessons about tensorflow, when the purpose here is BERT!).\n",
        "\n",
        "At the moment, the Hugging Face library seems to be the most widely accepted and powerful pytorch interface for working with BERT. In addition to supporting a variety of different pre-trained transformer models, the library also includes pre-built modifications of these models suited to your specific task. For example, in this tutorial we will use `BertForSequenceClassification`.\n",
        "\n",
        "The library also includes task-specific classes for token classification, question answering, next sentence prediciton, etc. Using these pre-built classes simplifies the process of modifying BERT for your purposes.\n"
      ]
    },
    {
      "cell_type": "code",
      "execution_count": 131,
      "metadata": {
        "colab": {
          "base_uri": "https://localhost:8080/"
        },
        "id": "0NmMdkZO8R6q",
        "outputId": "6a5c1b34-dc67-4ef0-e50a-624901d7405c"
      },
      "outputs": [
        {
          "output_type": "stream",
          "name": "stdout",
          "text": [
            "Requirement already satisfied: transformers in /usr/local/lib/python3.7/dist-packages (4.14.1)\n",
            "Requirement already satisfied: tokenizers<0.11,>=0.10.1 in /usr/local/lib/python3.7/dist-packages (from transformers) (0.10.3)\n",
            "Requirement already satisfied: numpy>=1.17 in /usr/local/lib/python3.7/dist-packages (from transformers) (1.19.5)\n",
            "Requirement already satisfied: regex!=2019.12.17 in /usr/local/lib/python3.7/dist-packages (from transformers) (2019.12.20)\n",
            "Requirement already satisfied: requests in /usr/local/lib/python3.7/dist-packages (from transformers) (2.23.0)\n",
            "Requirement already satisfied: tqdm>=4.27 in /usr/local/lib/python3.7/dist-packages (from transformers) (4.62.3)\n",
            "Requirement already satisfied: packaging>=20.0 in /usr/local/lib/python3.7/dist-packages (from transformers) (21.3)\n",
            "Requirement already satisfied: huggingface-hub<1.0,>=0.1.0 in /usr/local/lib/python3.7/dist-packages (from transformers) (0.2.1)\n",
            "Requirement already satisfied: pyyaml>=5.1 in /usr/local/lib/python3.7/dist-packages (from transformers) (6.0)\n",
            "Requirement already satisfied: filelock in /usr/local/lib/python3.7/dist-packages (from transformers) (3.4.0)\n",
            "Requirement already satisfied: sacremoses in /usr/local/lib/python3.7/dist-packages (from transformers) (0.0.46)\n",
            "Requirement already satisfied: importlib-metadata in /usr/local/lib/python3.7/dist-packages (from transformers) (4.8.2)\n",
            "Requirement already satisfied: typing-extensions>=3.7.4.3 in /usr/local/lib/python3.7/dist-packages (from huggingface-hub<1.0,>=0.1.0->transformers) (3.10.0.2)\n",
            "Requirement already satisfied: pyparsing!=3.0.5,>=2.0.2 in /usr/local/lib/python3.7/dist-packages (from packaging>=20.0->transformers) (3.0.6)\n",
            "Requirement already satisfied: zipp>=0.5 in /usr/local/lib/python3.7/dist-packages (from importlib-metadata->transformers) (3.6.0)\n",
            "Requirement already satisfied: certifi>=2017.4.17 in /usr/local/lib/python3.7/dist-packages (from requests->transformers) (2021.10.8)\n",
            "Requirement already satisfied: idna<3,>=2.5 in /usr/local/lib/python3.7/dist-packages (from requests->transformers) (2.10)\n",
            "Requirement already satisfied: urllib3!=1.25.0,!=1.25.1,<1.26,>=1.21.1 in /usr/local/lib/python3.7/dist-packages (from requests->transformers) (1.24.3)\n",
            "Requirement already satisfied: chardet<4,>=3.0.2 in /usr/local/lib/python3.7/dist-packages (from requests->transformers) (3.0.4)\n",
            "Requirement already satisfied: six in /usr/local/lib/python3.7/dist-packages (from sacremoses->transformers) (1.15.0)\n",
            "Requirement already satisfied: joblib in /usr/local/lib/python3.7/dist-packages (from sacremoses->transformers) (1.1.0)\n",
            "Requirement already satisfied: click in /usr/local/lib/python3.7/dist-packages (from sacremoses->transformers) (7.1.2)\n"
          ]
        }
      ],
      "source": [
        "!pip install transformers"
      ]
    },
    {
      "cell_type": "markdown",
      "metadata": {
        "id": "lxddqmruamSj"
      },
      "source": [
        "The code in this notebook is actually a simplified version of the [run_glue.py](https://github.com/huggingface/transformers/blob/master/examples/run_glue.py) example script from huggingface.\n",
        "\n",
        "`run_glue.py` is a helpful utility which allows you to pick which GLUE benchmark task you want to run on, and which pre-trained model you want to use (you can see the list of possible models [here](https://github.com/huggingface/transformers/blob/e6cff60b4cbc1158fbd6e4a1c3afda8dc224f566/examples/run_glue.py#L69)). It also supports using either the CPU, a single GPU, or multiple GPUs. It even supports using 16-bit precision if you want further speed up.\n",
        "\n",
        "Unfortunately, all of this configurability comes at the cost of *readability*. In this Notebook, we've simplified the code greatly and added plenty of comments to make it clear what's going on. "
      ]
    },
    {
      "cell_type": "markdown",
      "metadata": {
        "id": "guw6ZNtaswKc"
      },
      "source": [
        "# 2. Loading CoLA Dataset\n"
      ]
    },
    {
      "cell_type": "markdown",
      "metadata": {
        "id": "_9ZKxKc04Btk"
      },
      "source": [
        "We'll use [The Corpus of Linguistic Acceptability (CoLA)](https://nyu-mll.github.io/CoLA/) dataset for single sentence classification. It's a set of sentences labeled as grammatically correct or incorrect. It was first published in May of 2018, and is one of the tests included in the \"GLUE Benchmark\" on which models like BERT are competing.\n"
      ]
    },
    {
      "cell_type": "markdown",
      "metadata": {
        "id": "4JrUHXms16cn"
      },
      "source": [
        "## 2.1. Download & Extract"
      ]
    },
    {
      "cell_type": "markdown",
      "metadata": {
        "id": "3ZNVW6xd0T0X"
      },
      "source": [
        "We'll use the `wget` package to download the dataset to the Colab instance's file system. "
      ]
    },
    {
      "cell_type": "code",
      "execution_count": 132,
      "metadata": {
        "id": "-iyHlDIO7Fxq"
      },
      "outputs": [],
      "source": [
        "#!wget https://github.com/thedenaas/hse_seminars/raw/master/2019/exam/exam_data.zip"
      ]
    },
    {
      "cell_type": "code",
      "execution_count": 133,
      "metadata": {
        "id": "mxtB9aL77JJp"
      },
      "outputs": [],
      "source": [
        "#!unzip exam_data.zip"
      ]
    },
    {
      "cell_type": "code",
      "execution_count": 134,
      "metadata": {
        "colab": {
          "base_uri": "https://localhost:8080/"
        },
        "id": "NMEpBDIQ7LiZ",
        "outputId": "751dfb16-4aee-4a82-8d37-a651e8a2b4ca"
      },
      "outputs": [
        {
          "output_type": "stream",
          "name": "stdout",
          "text": [
            "answers_subsample.csv\t exam_data.zip\t  sample_data  train.csv\n",
            "answers_subsample.csv.1  exam_data.zip.1  test.csv\n"
          ]
        }
      ],
      "source": [
        "!ls"
      ]
    },
    {
      "cell_type": "code",
      "source": [
        "#!wget https://raw.githubusercontent.com/semensorokin/DLforNLP_course_material/master/Homework2/answers_subsample.csv\n",
        "!ls -l"
      ],
      "metadata": {
        "colab": {
          "base_uri": "https://localhost:8080/"
        },
        "id": "TnUcMMgP4WkH",
        "outputId": "ae10b689-311c-4ef8-b9a2-902ea059ba31"
      },
      "execution_count": 135,
      "outputs": [
        {
          "output_type": "stream",
          "name": "stdout",
          "text": [
            "total 89884\n",
            "-rw-r--r-- 1 root root 28717126 Dec 20 17:27 answers_subsample.csv\n",
            "-rw-r--r-- 1 root root 28717126 Dec 20 20:28 answers_subsample.csv.1\n",
            "-rw-r--r-- 1 root root  7356841 Dec 20 17:26 exam_data.zip\n",
            "-rw-r--r-- 1 root root  7356841 Dec 20 20:26 exam_data.zip.1\n",
            "drwxr-xr-x 1 root root     4096 Dec  3 14:33 sample_data\n",
            "-rw-r--r-- 1 root root  2006770 Mar 23  2020 test.csv\n",
            "-rw-r--r-- 1 root root 17864859 Mar 23  2020 train.csv\n"
          ]
        }
      ]
    },
    {
      "cell_type": "markdown",
      "metadata": {
        "id": "08pO03Ff1BjI"
      },
      "source": [
        "The dataset is hosted on GitHub in this repo: https://nyu-mll.github.io/CoLA/"
      ]
    },
    {
      "cell_type": "markdown",
      "metadata": {
        "id": "oQUy9Tat2EF_"
      },
      "source": [
        "## 2.2. Parse"
      ]
    },
    {
      "cell_type": "markdown",
      "metadata": {
        "id": "xeyVCXT31EZQ"
      },
      "source": [
        "We can see from the file names that both `tokenized` and `raw` versions of the data are available. \n",
        "\n",
        "We can't use the pre-tokenized version because, in order to apply the pre-trained BERT, we *must* use the tokenizer provided by the model. This is because (1) the model has a specific, fixed vocabulary and (2) the BERT tokenizer has a particular way of handling out-of-vocabulary words."
      ]
    },
    {
      "cell_type": "markdown",
      "metadata": {
        "id": "MYWzeGSY2xh3"
      },
      "source": [
        "We'll use pandas to parse the \"in-domain\" training set and look at a few of its properties and data points."
      ]
    },
    {
      "cell_type": "code",
      "execution_count": 136,
      "metadata": {
        "colab": {
          "base_uri": "https://localhost:8080/",
          "height": 52
        },
        "id": "_UkeC7SG2krJ",
        "outputId": "6b236c3b-b611-4a56-9443-06e2d9878db2"
      },
      "outputs": [
        {
          "output_type": "execute_result",
          "data": {
            "application/vnd.google.colaboratory.intrinsic+json": {
              "type": "string"
            },
            "text/plain": [
              "\"# Load the dataset into a pandas dataframe.\\ndf_train = pd.read_csv('train.csv')\\ndf_test = pd.read_csv('test.csv')\\n\\n\\n# Report the number of sentences.\\nprint('Number of training sentences: {:,}\\n'.format(df_train.shape[0]))\\n\\n# Display 10 random rows from the data.\\ndf_train.sample(10)\""
            ]
          },
          "metadata": {},
          "execution_count": 136
        }
      ],
      "source": [
        "import pandas as pd\n",
        "\n",
        "'''# Load the dataset into a pandas dataframe.\n",
        "df_train = pd.read_csv('train.csv')\n",
        "df_test = pd.read_csv('test.csv')\n",
        "\n",
        "\n",
        "# Report the number of sentences.\n",
        "print('Number of training sentences: {:,}\\n'.format(df_train.shape[0]))\n",
        "\n",
        "# Display 10 random rows from the data.\n",
        "df_train.sample(10)'''"
      ]
    },
    {
      "cell_type": "code",
      "source": [
        "from sklearn.model_selection import train_test_split\n",
        "\n",
        "df = pd.read_csv('answers_subsample.csv')\n",
        "cat_mapper = {cat: n for n, cat in enumerate(df.category.unique())}\n",
        "df.category = df.category.map(cat_mapper)\n",
        "sentences, x_test, labels, y_test = train_test_split(df.text.values, df.category.values, test_size=0.1, train_size=0.25, stratify=df.category.values, random_state=2018)"
      ],
      "metadata": {
        "id": "RHbOn0L_4wyd"
      },
      "execution_count": 137,
      "outputs": []
    },
    {
      "cell_type": "markdown",
      "metadata": {
        "id": "kfWzpPi92UAH"
      },
      "source": [
        "The two properties we actually care about are the the `sentence` and its `label`, which is referred to as the \"acceptibility judgment\" (0=unacceptable, 1=acceptable)."
      ]
    },
    {
      "cell_type": "markdown",
      "metadata": {
        "id": "H_LpQfzCn9_o"
      },
      "source": [
        "Here are five sentences which are labeled as not grammatically acceptible. Note how much more difficult this task is than something like sentiment analysis!"
      ]
    },
    {
      "cell_type": "markdown",
      "metadata": {
        "id": "4SMZ5T5Imhlx"
      },
      "source": [
        "\n",
        "\n",
        "Let's extract the sentences and labels of our training set as numpy ndarrays."
      ]
    },
    {
      "cell_type": "code",
      "execution_count": 138,
      "metadata": {
        "id": "GuE5BqICAne2"
      },
      "outputs": [],
      "source": [
        "# Get the lists of sentences and their labels.\n",
        "#sentences = df.text.values\n",
        "#labels = df.category.values"
      ]
    },
    {
      "cell_type": "markdown",
      "metadata": {
        "id": "ex5O1eV-Pfct"
      },
      "source": [
        "# 3. Tokenization & Input Formatting\n",
        "\n",
        "In this section, we'll transform our dataset into the format that BERT can be trained on."
      ]
    },
    {
      "cell_type": "markdown",
      "metadata": {
        "id": "-8kEDRvShcU5"
      },
      "source": [
        "## 3.1. BERT Tokenizer"
      ]
    },
    {
      "cell_type": "markdown",
      "metadata": {
        "id": "bWOPOyWghJp2"
      },
      "source": [
        "\n",
        "To feed our text to BERT, it must be split into tokens, and then these tokens must be mapped to their index in the tokenizer vocabulary.\n",
        "\n",
        "The tokenization must be performed by the tokenizer included with BERT--the below cell will download this for us. We'll be using the \"uncased\" version here.\n"
      ]
    },
    {
      "cell_type": "code",
      "execution_count": 139,
      "metadata": {
        "colab": {
          "base_uri": "https://localhost:8080/"
        },
        "id": "Z474sSC6oe7A",
        "outputId": "7d89db1a-bc12-49ce-886a-18d4acec284c"
      },
      "outputs": [
        {
          "output_type": "stream",
          "name": "stdout",
          "text": [
            "Loading BERT tokenizer...\n"
          ]
        }
      ],
      "source": [
        "from transformers import BertTokenizer\n",
        "\n",
        "# Load the BERT tokenizer.\n",
        "print('Loading BERT tokenizer...')\n",
        "tokenizer = BertTokenizer.from_pretrained('bert-base-multilingual-uncased', do_lower_case=True)"
      ]
    },
    {
      "cell_type": "markdown",
      "metadata": {
        "id": "dFzmtleW6KmJ"
      },
      "source": [
        "Let's apply the tokenizer to one sentence just to see the output.\n"
      ]
    },
    {
      "cell_type": "code",
      "execution_count": 140,
      "metadata": {
        "colab": {
          "base_uri": "https://localhost:8080/"
        },
        "id": "dLIbudgfh6F0",
        "outputId": "afd52e5c-553f-43f7-ec52-938b25c36c60"
      },
      "outputs": [
        {
          "output_type": "stream",
          "name": "stdout",
          "text": [
            " Original:  Можно ли менять показания, если лапа мохнатая?\n",
            "Tokenized:  ['можно', 'ли', 'меня', '##ть', 'пока', '##зания', ',', 'если', 'ла', '##па', 'мох', '##ната', '##я', '?']\n",
            "Token IDs:  [18509, 23029, 51892, 11569, 39665, 85491, 117, 18294, 16820, 14520, 56069, 13376, 10401, 136]\n"
          ]
        }
      ],
      "source": [
        "# Print the original sentence.\n",
        "print(' Original: ', sentences[0])\n",
        "\n",
        "# Print the sentence split into tokens.\n",
        "print('Tokenized: ', tokenizer.tokenize(sentences[0]))\n",
        "\n",
        "# Print the sentence mapped to token ids.\n",
        "print('Token IDs: ', tokenizer.convert_tokens_to_ids(tokenizer.tokenize(sentences[0])))"
      ]
    },
    {
      "cell_type": "markdown",
      "metadata": {
        "id": "WeNIc4auFUdF"
      },
      "source": [
        "When we actually convert all of our sentences, we'll use the `tokenize.encode` function to handle both steps, rather than calling `tokenize` and `convert_tokens_to_ids` separately. \n",
        "\n",
        "Before we can do that, though, we need to talk about some of BERT's formatting requirements."
      ]
    },
    {
      "cell_type": "markdown",
      "metadata": {
        "id": "6vog11nd8H_X"
      },
      "source": [
        "## 3.1.1 Required Formatting\n",
        "\n",
        "About BPE"
      ]
    },
    {
      "cell_type": "code",
      "execution_count": 140,
      "metadata": {
        "id": "VE4wL21y8HVW"
      },
      "outputs": [],
      "source": [
        ""
      ]
    },
    {
      "cell_type": "markdown",
      "metadata": {
        "id": "viKGCCh8izww"
      },
      "source": [
        "## 3.2. Required Formatting"
      ]
    },
    {
      "cell_type": "markdown",
      "metadata": {
        "id": "yDcqNlvVhL5W"
      },
      "source": [
        "The above code left out a few required formatting steps that we'll look at here.\n",
        "\n",
        "*Side Note: The input format to BERT seems \"over-specified\" to me... We are required to give it a number of pieces of information which seem redundant, or like they could easily be inferred from the data without us explicity providing it. But it is what it is, and I suspect it will make more sense once I have a deeper understanding of the BERT internals.*\n",
        "\n",
        "We are required to:\n",
        "1. Add special tokens to the start and end of each sentence.\n",
        "2. Pad & truncate all sentences to a single constant length.\n",
        "3. Explicitly differentiate real tokens from padding tokens with the \"attention mask\".\n",
        "\n"
      ]
    },
    {
      "cell_type": "markdown",
      "metadata": {
        "id": "V6mceWWOjZnw"
      },
      "source": [
        "### Special Tokens\n"
      ]
    },
    {
      "cell_type": "markdown",
      "metadata": {
        "id": "Ykk0P9JiKtVe"
      },
      "source": [
        "\n",
        "**`[SEP]`**\n",
        "\n",
        "At the end of every sentence, we need to append the special `[SEP]` token. \n",
        "\n",
        "This token is an artifact of two-sentence tasks, where BERT is given two separate sentences and asked to determine something (e.g., can the answer to the question in sentence A be found in sentence B?). \n",
        "\n",
        "I am not certain yet why the token is still required when we have only single-sentence input, but it is!\n"
      ]
    },
    {
      "cell_type": "markdown",
      "metadata": {
        "id": "86C9objaKu8f"
      },
      "source": [
        "**`[CLS]`**\n",
        "\n",
        "For classification tasks, we must prepend the special `[CLS]` token to the beginning of every sentence.\n",
        "\n",
        "This token has special significance. BERT consists of 12 Transformer layers. Each transformer takes in a list of token embeddings, and produces the same number of embeddings on the output (but with the feature values changed, of course!).\n",
        "\n",
        "![Illustration of CLS token purpose](http://www.mccormickml.com/assets/BERT/CLS_token_500x606.png)\n",
        "\n",
        "On the output of the final (12th) transformer, *only the first embedding (corresponding to the [CLS] token) is used by the classifier*.\n",
        "\n",
        ">  \"The first token of every sequence is always a special classification token (`[CLS]`). The final hidden state\n",
        "corresponding to this token is used as the aggregate sequence representation for classification\n",
        "tasks.\" (from the [BERT paper](https://arxiv.org/pdf/1810.04805.pdf))\n",
        "\n",
        "I'm not sure why the authors took this strategy instead of some kind of pooling of all the final vectors, but I'm sure that if pooling were better they would have gone that route. \n",
        "\n",
        "Also, because BERT is trained to only use this [CLS] token for classification, we know that the model has been motivated to encode everything it needs for the classification step into that single 768-value embedding vector.\n",
        "\n"
      ]
    },
    {
      "cell_type": "markdown",
      "metadata": {
        "id": "u51v0kFxeteu"
      },
      "source": [
        "### Sentence Length & Attention Mask\n",
        "\n"
      ]
    },
    {
      "cell_type": "markdown",
      "metadata": {
        "id": "qPNuwqZVK3T6"
      },
      "source": [
        "The sentences in our dataset obviously have varying lengths, so how does BERT handle this?\n",
        "\n",
        "BERT has two constraints:\n",
        "1. All sentences must be padded or truncated to a single, fixed length.\n",
        "2. The maximum sentence length is 512 tokens.\n",
        "\n",
        "Padding is done with a special `[PAD]` token, which is at index 0 in the BERT vocabulary. The below illustration demonstrates padding out to a \"MAX_LEN\" of 8 tokens.\n",
        "\n",
        "<img src=\"http://www.mccormickml.com/assets/BERT/padding_and_mask.png\" width=\"600\">\n",
        "\n",
        "The \"Attention Mask\" is simply an array of 1s and 0s indicating which tokens are padding and which aren't (seems kind of redundant, doesn't it?! Again, I don't currently know why).\n",
        "\n",
        "I've experimented with running this notebook with two different values of MAX_LEN, and it impacted both the training speed and the  test set accuracy.\n",
        "\n",
        "With a Tesla K80 and:\n",
        "\n",
        "```\n",
        "MAX_LEN = 128  -->  Training epochs take ~5:28 each, score is 0.535\n",
        "MAX_LEN = 64   -->  Training epochs take ~2:57 each, score is 0.566\n",
        "```\n",
        "These results suggest to me that the padding tokens aren't simply skipped over--that they are in fact fed through the model and incorporated in the results (thereby impacting both model speed and accuracy). I'll have to dig into the architecture more to understand this.\n",
        "\n",
        "\n",
        "\n",
        "\n"
      ]
    },
    {
      "cell_type": "markdown",
      "metadata": {
        "id": "l6w8elb-58GJ"
      },
      "source": [
        "## 3.2. Sentences to IDs"
      ]
    },
    {
      "cell_type": "markdown",
      "metadata": {
        "id": "1M296yz577fV"
      },
      "source": [
        "The `tokenizer.encode` function combines multiple steps for us:\n",
        "1. Split the sentence into tokens.\n",
        "2. Add the special `[CLS]` and `[SEP]` tokens.\n",
        "3. Map the tokens to their IDs.\n",
        "\n",
        "Oddly, this function can perform truncating for us, but doesn't handle padding. "
      ]
    },
    {
      "cell_type": "code",
      "execution_count": 141,
      "metadata": {
        "colab": {
          "base_uri": "https://localhost:8080/"
        },
        "id": "2bBdb3pt8LuQ",
        "outputId": "a16c4d64-4f3a-45e2-f37b-d054b3dcbe09"
      },
      "outputs": [
        {
          "output_type": "stream",
          "name": "stderr",
          "text": [
            "100%|██████████| 59444/59444 [00:52<00:00, 1127.10it/s]"
          ]
        },
        {
          "output_type": "stream",
          "name": "stdout",
          "text": [
            "Original:  Можно ли менять показания, если лапа мохнатая?\n",
            "Token IDs: [101, 18509, 23029, 51892, 11569, 39665, 85491, 117, 18294, 16820, 14520, 56069, 13376, 10401, 136, 102]\n"
          ]
        },
        {
          "output_type": "stream",
          "name": "stderr",
          "text": [
            "\n"
          ]
        }
      ],
      "source": [
        "# Tokenize all of the sentences and map the tokens to thier word IDs.\n",
        "from tqdm import tqdm\n",
        "input_ids = []\n",
        "\n",
        "# For every sentence...\n",
        "for sent in tqdm(sentences):\n",
        "    # `encode` will:\n",
        "    #   (1) Tokenize the sentence.\n",
        "    #   (2) Prepend the `[CLS]` token to the start.\n",
        "    #   (3) Append the `[SEP]` token to the end.\n",
        "    #   (4) Map tokens to their IDs.\n",
        "    encoded_sent = tokenizer.encode(\n",
        "                        sent,                      # Sentence to encode.\n",
        "                        add_special_tokens = True, # Add '[CLS]' and '[SEP]'\n",
        "\n",
        "                        # This function also supports truncation and conversion\n",
        "                        # to pytorch tensors, but we need to do padding, so we\n",
        "                        # can't use these features :( .\n",
        "                        #max_length = 128,          # Truncate all sentences.\n",
        "                        #return_tensors = 'pt',     # Return pytorch tensors.\n",
        "                   )\n",
        "    \n",
        "    # Add the encoded sentence to the list.\n",
        "    input_ids.append(encoded_sent)\n",
        "\n",
        "# Print sentence 0, now as a list of IDs.\n",
        "print('Original: ', sentences[0])\n",
        "print('Token IDs:', input_ids[0])"
      ]
    },
    {
      "cell_type": "markdown",
      "metadata": {
        "id": "WhwCKszh6ych"
      },
      "source": [
        "## 3.3. Padding & Truncating"
      ]
    },
    {
      "cell_type": "markdown",
      "metadata": {
        "id": "xytsw1oIfnX0"
      },
      "source": [
        "Pad and truncate our sequences so that they all have the same length, `MAX_LEN`."
      ]
    },
    {
      "cell_type": "markdown",
      "metadata": {
        "id": "zqiWTDrn_nGB"
      },
      "source": [
        "First, what's the maximum sentence length in our dataset?"
      ]
    },
    {
      "cell_type": "code",
      "execution_count": 142,
      "metadata": {
        "colab": {
          "base_uri": "https://localhost:8080/"
        },
        "id": "JhUZO9vc_l6T",
        "outputId": "f7d7b414-eebf-4839-c758-d40e33429c2b"
      },
      "outputs": [
        {
          "output_type": "stream",
          "name": "stdout",
          "text": [
            "Max sentence length:  74\n"
          ]
        }
      ],
      "source": [
        "print('Max sentence length: ', max([len(sen) for sen in input_ids]))"
      ]
    },
    {
      "cell_type": "markdown",
      "metadata": {
        "id": "hp-54FcQ_p3h"
      },
      "source": [
        "Given that, let's choose MAX_LEN = 64 and apply the padding."
      ]
    },
    {
      "cell_type": "code",
      "execution_count": 143,
      "metadata": {
        "colab": {
          "base_uri": "https://localhost:8080/"
        },
        "id": "Cp9BPRd1tMIo",
        "outputId": "40566116-d362-433b-bbe1-5b3724838060"
      },
      "outputs": [
        {
          "output_type": "stream",
          "name": "stdout",
          "text": [
            "\n",
            "Padding/truncating all sentences to 74 values...\n",
            "\n",
            "Padding token: \"[PAD]\", ID: 0\n",
            "\n",
            "Done.\n"
          ]
        }
      ],
      "source": [
        "# We'll borrow the `pad_sequences` utility function to do this.\n",
        "from keras.preprocessing.sequence import pad_sequences\n",
        "\n",
        "# Set the maximum sequence length.\n",
        "# I've chosen 64 somewhat arbitrarily. It's slightly larger than the\n",
        "# maximum training sentence length of 47...\n",
        "MAX_LEN = 74\n",
        "\n",
        "print('\\nPadding/truncating all sentences to %d values...' % MAX_LEN)\n",
        "\n",
        "print('\\nPadding token: \"{:}\", ID: {:}'.format(tokenizer.pad_token, tokenizer.pad_token_id))\n",
        "\n",
        "# Pad our input tokens with value 0.\n",
        "# \"post\" indicates that we want to pad and truncate at the end of the sequence,\n",
        "# as opposed to the beginning.\n",
        "input_ids = pad_sequences(input_ids, maxlen=MAX_LEN, dtype=\"long\", \n",
        "                          value=0, truncating=\"post\", padding=\"post\")\n",
        "\n",
        "print('\\nDone.')"
      ]
    },
    {
      "cell_type": "markdown",
      "metadata": {
        "id": "kDs-MYtYH8sL"
      },
      "source": [
        "## 3.4. Attention Masks"
      ]
    },
    {
      "cell_type": "markdown",
      "metadata": {
        "id": "KhGulL1pExCT"
      },
      "source": [
        "The attention mask simply makes it explicit which tokens are actual words versus which are padding. \n",
        "\n",
        "The BERT vocabulary does not use the ID 0, so if a token ID is 0, then it's padding, and otherwise it's a real token."
      ]
    },
    {
      "cell_type": "code",
      "execution_count": 144,
      "metadata": {
        "id": "cDoC24LeEv3N"
      },
      "outputs": [],
      "source": [
        "# Create attention masks\n",
        "attention_masks = []\n",
        "\n",
        "# For each sentence...\n",
        "for sent in input_ids:\n",
        "    \n",
        "    # Create the attention mask.\n",
        "    #   - If a token ID is 0, then it's padding, set the mask to 0.\n",
        "    #   - If a token ID is > 0, then it's a real token, set the mask to 1.\n",
        "    att_mask = [int(token_id > 0) for token_id in sent]\n",
        "    \n",
        "    # Store the attention mask for this sentence.\n",
        "    attention_masks.append(att_mask)"
      ]
    },
    {
      "cell_type": "markdown",
      "metadata": {
        "id": "aRp4O7D295d_"
      },
      "source": [
        "## 3.5. Training & Validation Split\n"
      ]
    },
    {
      "cell_type": "markdown",
      "metadata": {
        "id": "qu0ao7p8rb06"
      },
      "source": [
        "Divide up our training set to use 90% for training and 10% for validation."
      ]
    },
    {
      "cell_type": "code",
      "execution_count": 145,
      "metadata": {
        "id": "aFbE-UHvsb7-"
      },
      "outputs": [],
      "source": [
        "# Use train_test_split to split our data into train and validation sets for\n",
        "# training\n",
        "from sklearn.model_selection import train_test_split\n",
        "\n",
        "# Use 90% for training and 10% for validation.\n",
        "train_inputs, validation_inputs, train_labels, validation_labels = train_test_split(input_ids, labels, \n",
        "                                                            random_state=2018, test_size=0.1, stratify=labels)\n",
        "# Do the same for the masks.\n",
        "train_masks, validation_masks, _, _ = train_test_split(attention_masks, labels,\n",
        "                                             random_state=2018, test_size=0.1, stratify=labels)"
      ]
    },
    {
      "cell_type": "markdown",
      "metadata": {
        "id": "7LzSbTqW9_BR"
      },
      "source": [
        "## 3.6. Converting to PyTorch Data Types"
      ]
    },
    {
      "cell_type": "markdown",
      "metadata": {
        "id": "6p1uXczp-Je4"
      },
      "source": [
        "Our model expects PyTorch tensors rather than numpy.ndarrays, so convert all of our dataset variables."
      ]
    },
    {
      "cell_type": "code",
      "execution_count": 146,
      "metadata": {
        "id": "jw5K2A5Ko1RF"
      },
      "outputs": [],
      "source": [
        "# Convert all inputs and labels into torch tensors, the required datatype \n",
        "# for our model.\n",
        "train_inputs = torch.tensor(train_inputs)\n",
        "validation_inputs = torch.tensor(validation_inputs)\n",
        "\n",
        "train_labels = torch.tensor(train_labels)\n",
        "validation_labels = torch.tensor(validation_labels)\n",
        "\n",
        "train_masks = torch.tensor(train_masks)\n",
        "validation_masks = torch.tensor(validation_masks)"
      ]
    },
    {
      "cell_type": "markdown",
      "metadata": {
        "id": "dD9i6Z2pG-sN"
      },
      "source": [
        "We'll also create an iterator for our dataset using the torch DataLoader class. This helps save on memory during training because, unlike a for loop, with an iterator the entire dataset does not need to be loaded into memory."
      ]
    },
    {
      "cell_type": "code",
      "execution_count": 147,
      "metadata": {
        "id": "GEgLpFVlo1Z-"
      },
      "outputs": [],
      "source": [
        "from torch.utils.data import TensorDataset, DataLoader, RandomSampler, SequentialSampler\n",
        "\n",
        "# The DataLoader needs to know our batch size for training, so we specify it \n",
        "# here.\n",
        "# For fine-tuning BERT on a specific task, the authors recommend a batch size of\n",
        "# 16 or 32.\n",
        "\n",
        "batch_size = 32\n",
        "\n",
        "# Create the DataLoader for our training set.\n",
        "train_data = TensorDataset(train_inputs, train_masks, train_labels)\n",
        "train_sampler = RandomSampler(train_data)\n",
        "train_dataloader = DataLoader(train_data, sampler=train_sampler, batch_size=batch_size)\n",
        "\n",
        "# Create the DataLoader for our validation set.\n",
        "validation_data = TensorDataset(validation_inputs, validation_masks, validation_labels)\n",
        "validation_sampler = SequentialSampler(validation_data)\n",
        "validation_dataloader = DataLoader(validation_data, sampler=validation_sampler, batch_size=batch_size)\n"
      ]
    },
    {
      "cell_type": "markdown",
      "metadata": {
        "id": "8bwa6Rts-02-"
      },
      "source": [
        "# 4. Train Our Classification Model"
      ]
    },
    {
      "cell_type": "markdown",
      "metadata": {
        "id": "3xYQ3iLO08SX"
      },
      "source": [
        "Now that our input data is properly formatted, it's time to fine tune the BERT model. "
      ]
    },
    {
      "cell_type": "markdown",
      "metadata": {
        "id": "D6TKgyUzPIQc"
      },
      "source": [
        "## 4.1. BertForSequenceClassification"
      ]
    },
    {
      "cell_type": "markdown",
      "metadata": {
        "id": "1sjzRT1V0zwm"
      },
      "source": [
        "For this task, we first want to modify the pre-trained BERT model to give outputs for classification, and then we want to continue training the model on our dataset until that the entire model, end-to-end, is well-suited for our task. \n",
        "\n",
        "Thankfully, the huggingface pytorch implementation includes a set of interfaces designed for a variety of NLP tasks. Though these interfaces are all built on top of a trained BERT model, each has different top layers and output types designed to accomodate their specific NLP task.  \n",
        "\n",
        "Here is the current list of classes provided for fine-tuning:\n",
        "* BertModel\n",
        "* BertForPreTraining\n",
        "* BertForMaskedLM\n",
        "* BertForNextSentencePrediction\n",
        "* **BertForSequenceClassification** - The one we'll use.\n",
        "* BertForTokenClassification\n",
        "* BertForQuestionAnswering\n",
        "\n",
        "The documentation for these can be found under [here](https://huggingface.co/transformers/v2.2.0/model_doc/bert.html)."
      ]
    },
    {
      "cell_type": "markdown",
      "metadata": {
        "id": "BXYitPoE-cjH"
      },
      "source": [
        "\n",
        "\n",
        "We'll be using [BertForSequenceClassification](https://huggingface.co/transformers/v2.2.0/model_doc/bert.html#bertforsequenceclassification). This is the normal BERT model with an added single linear layer on top for classification that we will use as a sentence classifier. As we feed input data, the entire pre-trained BERT model and the additional untrained classification layer is trained on our specific task. \n"
      ]
    },
    {
      "cell_type": "markdown",
      "metadata": {
        "id": "WnQW9E-bBCRt"
      },
      "source": [
        "OK, let's load BERT! There are a few different pre-trained BERT models available. \"bert-base-uncased\" means the version that has only lowercase letters (\"uncased\") and is the smaller version of the two (\"base\" vs \"large\").\n",
        "\n",
        "The documentation for `from_pretrained` can be found [here](https://huggingface.co/transformers/v2.2.0/main_classes/model.html#transformers.PreTrainedModel.from_pretrained), with the additional parameters defined [here](https://huggingface.co/transformers/v2.2.0/main_classes/configuration.html#transformers.PretrainedConfig)."
      ]
    },
    {
      "cell_type": "code",
      "execution_count": 148,
      "metadata": {
        "colab": {
          "base_uri": "https://localhost:8080/"
        },
        "id": "gFsCTp_mporB",
        "outputId": "0c876e9e-fcc7-4a17-e6f0-719dacf91253"
      },
      "outputs": [
        {
          "output_type": "stream",
          "name": "stderr",
          "text": [
            "Some weights of the model checkpoint at bert-base-multilingual-uncased were not used when initializing BertForSequenceClassification: ['cls.predictions.transform.dense.bias', 'cls.predictions.transform.LayerNorm.bias', 'cls.seq_relationship.bias', 'cls.predictions.transform.dense.weight', 'cls.predictions.transform.LayerNorm.weight', 'cls.predictions.decoder.weight', 'cls.seq_relationship.weight', 'cls.predictions.bias']\n",
            "- This IS expected if you are initializing BertForSequenceClassification from the checkpoint of a model trained on another task or with another architecture (e.g. initializing a BertForSequenceClassification model from a BertForPreTraining model).\n",
            "- This IS NOT expected if you are initializing BertForSequenceClassification from the checkpoint of a model that you expect to be exactly identical (initializing a BertForSequenceClassification model from a BertForSequenceClassification model).\n",
            "Some weights of BertForSequenceClassification were not initialized from the model checkpoint at bert-base-multilingual-uncased and are newly initialized: ['classifier.weight', 'classifier.bias']\n",
            "You should probably TRAIN this model on a down-stream task to be able to use it for predictions and inference.\n"
          ]
        },
        {
          "output_type": "execute_result",
          "data": {
            "text/plain": [
              "BertForSequenceClassification(\n",
              "  (bert): BertModel(\n",
              "    (embeddings): BertEmbeddings(\n",
              "      (word_embeddings): Embedding(105879, 768, padding_idx=0)\n",
              "      (position_embeddings): Embedding(512, 768)\n",
              "      (token_type_embeddings): Embedding(2, 768)\n",
              "      (LayerNorm): LayerNorm((768,), eps=1e-12, elementwise_affine=True)\n",
              "      (dropout): Dropout(p=0.1, inplace=False)\n",
              "    )\n",
              "    (encoder): BertEncoder(\n",
              "      (layer): ModuleList(\n",
              "        (0): BertLayer(\n",
              "          (attention): BertAttention(\n",
              "            (self): BertSelfAttention(\n",
              "              (query): Linear(in_features=768, out_features=768, bias=True)\n",
              "              (key): Linear(in_features=768, out_features=768, bias=True)\n",
              "              (value): Linear(in_features=768, out_features=768, bias=True)\n",
              "              (dropout): Dropout(p=0.1, inplace=False)\n",
              "            )\n",
              "            (output): BertSelfOutput(\n",
              "              (dense): Linear(in_features=768, out_features=768, bias=True)\n",
              "              (LayerNorm): LayerNorm((768,), eps=1e-12, elementwise_affine=True)\n",
              "              (dropout): Dropout(p=0.1, inplace=False)\n",
              "            )\n",
              "          )\n",
              "          (intermediate): BertIntermediate(\n",
              "            (dense): Linear(in_features=768, out_features=3072, bias=True)\n",
              "          )\n",
              "          (output): BertOutput(\n",
              "            (dense): Linear(in_features=3072, out_features=768, bias=True)\n",
              "            (LayerNorm): LayerNorm((768,), eps=1e-12, elementwise_affine=True)\n",
              "            (dropout): Dropout(p=0.1, inplace=False)\n",
              "          )\n",
              "        )\n",
              "        (1): BertLayer(\n",
              "          (attention): BertAttention(\n",
              "            (self): BertSelfAttention(\n",
              "              (query): Linear(in_features=768, out_features=768, bias=True)\n",
              "              (key): Linear(in_features=768, out_features=768, bias=True)\n",
              "              (value): Linear(in_features=768, out_features=768, bias=True)\n",
              "              (dropout): Dropout(p=0.1, inplace=False)\n",
              "            )\n",
              "            (output): BertSelfOutput(\n",
              "              (dense): Linear(in_features=768, out_features=768, bias=True)\n",
              "              (LayerNorm): LayerNorm((768,), eps=1e-12, elementwise_affine=True)\n",
              "              (dropout): Dropout(p=0.1, inplace=False)\n",
              "            )\n",
              "          )\n",
              "          (intermediate): BertIntermediate(\n",
              "            (dense): Linear(in_features=768, out_features=3072, bias=True)\n",
              "          )\n",
              "          (output): BertOutput(\n",
              "            (dense): Linear(in_features=3072, out_features=768, bias=True)\n",
              "            (LayerNorm): LayerNorm((768,), eps=1e-12, elementwise_affine=True)\n",
              "            (dropout): Dropout(p=0.1, inplace=False)\n",
              "          )\n",
              "        )\n",
              "        (2): BertLayer(\n",
              "          (attention): BertAttention(\n",
              "            (self): BertSelfAttention(\n",
              "              (query): Linear(in_features=768, out_features=768, bias=True)\n",
              "              (key): Linear(in_features=768, out_features=768, bias=True)\n",
              "              (value): Linear(in_features=768, out_features=768, bias=True)\n",
              "              (dropout): Dropout(p=0.1, inplace=False)\n",
              "            )\n",
              "            (output): BertSelfOutput(\n",
              "              (dense): Linear(in_features=768, out_features=768, bias=True)\n",
              "              (LayerNorm): LayerNorm((768,), eps=1e-12, elementwise_affine=True)\n",
              "              (dropout): Dropout(p=0.1, inplace=False)\n",
              "            )\n",
              "          )\n",
              "          (intermediate): BertIntermediate(\n",
              "            (dense): Linear(in_features=768, out_features=3072, bias=True)\n",
              "          )\n",
              "          (output): BertOutput(\n",
              "            (dense): Linear(in_features=3072, out_features=768, bias=True)\n",
              "            (LayerNorm): LayerNorm((768,), eps=1e-12, elementwise_affine=True)\n",
              "            (dropout): Dropout(p=0.1, inplace=False)\n",
              "          )\n",
              "        )\n",
              "        (3): BertLayer(\n",
              "          (attention): BertAttention(\n",
              "            (self): BertSelfAttention(\n",
              "              (query): Linear(in_features=768, out_features=768, bias=True)\n",
              "              (key): Linear(in_features=768, out_features=768, bias=True)\n",
              "              (value): Linear(in_features=768, out_features=768, bias=True)\n",
              "              (dropout): Dropout(p=0.1, inplace=False)\n",
              "            )\n",
              "            (output): BertSelfOutput(\n",
              "              (dense): Linear(in_features=768, out_features=768, bias=True)\n",
              "              (LayerNorm): LayerNorm((768,), eps=1e-12, elementwise_affine=True)\n",
              "              (dropout): Dropout(p=0.1, inplace=False)\n",
              "            )\n",
              "          )\n",
              "          (intermediate): BertIntermediate(\n",
              "            (dense): Linear(in_features=768, out_features=3072, bias=True)\n",
              "          )\n",
              "          (output): BertOutput(\n",
              "            (dense): Linear(in_features=3072, out_features=768, bias=True)\n",
              "            (LayerNorm): LayerNorm((768,), eps=1e-12, elementwise_affine=True)\n",
              "            (dropout): Dropout(p=0.1, inplace=False)\n",
              "          )\n",
              "        )\n",
              "        (4): BertLayer(\n",
              "          (attention): BertAttention(\n",
              "            (self): BertSelfAttention(\n",
              "              (query): Linear(in_features=768, out_features=768, bias=True)\n",
              "              (key): Linear(in_features=768, out_features=768, bias=True)\n",
              "              (value): Linear(in_features=768, out_features=768, bias=True)\n",
              "              (dropout): Dropout(p=0.1, inplace=False)\n",
              "            )\n",
              "            (output): BertSelfOutput(\n",
              "              (dense): Linear(in_features=768, out_features=768, bias=True)\n",
              "              (LayerNorm): LayerNorm((768,), eps=1e-12, elementwise_affine=True)\n",
              "              (dropout): Dropout(p=0.1, inplace=False)\n",
              "            )\n",
              "          )\n",
              "          (intermediate): BertIntermediate(\n",
              "            (dense): Linear(in_features=768, out_features=3072, bias=True)\n",
              "          )\n",
              "          (output): BertOutput(\n",
              "            (dense): Linear(in_features=3072, out_features=768, bias=True)\n",
              "            (LayerNorm): LayerNorm((768,), eps=1e-12, elementwise_affine=True)\n",
              "            (dropout): Dropout(p=0.1, inplace=False)\n",
              "          )\n",
              "        )\n",
              "        (5): BertLayer(\n",
              "          (attention): BertAttention(\n",
              "            (self): BertSelfAttention(\n",
              "              (query): Linear(in_features=768, out_features=768, bias=True)\n",
              "              (key): Linear(in_features=768, out_features=768, bias=True)\n",
              "              (value): Linear(in_features=768, out_features=768, bias=True)\n",
              "              (dropout): Dropout(p=0.1, inplace=False)\n",
              "            )\n",
              "            (output): BertSelfOutput(\n",
              "              (dense): Linear(in_features=768, out_features=768, bias=True)\n",
              "              (LayerNorm): LayerNorm((768,), eps=1e-12, elementwise_affine=True)\n",
              "              (dropout): Dropout(p=0.1, inplace=False)\n",
              "            )\n",
              "          )\n",
              "          (intermediate): BertIntermediate(\n",
              "            (dense): Linear(in_features=768, out_features=3072, bias=True)\n",
              "          )\n",
              "          (output): BertOutput(\n",
              "            (dense): Linear(in_features=3072, out_features=768, bias=True)\n",
              "            (LayerNorm): LayerNorm((768,), eps=1e-12, elementwise_affine=True)\n",
              "            (dropout): Dropout(p=0.1, inplace=False)\n",
              "          )\n",
              "        )\n",
              "        (6): BertLayer(\n",
              "          (attention): BertAttention(\n",
              "            (self): BertSelfAttention(\n",
              "              (query): Linear(in_features=768, out_features=768, bias=True)\n",
              "              (key): Linear(in_features=768, out_features=768, bias=True)\n",
              "              (value): Linear(in_features=768, out_features=768, bias=True)\n",
              "              (dropout): Dropout(p=0.1, inplace=False)\n",
              "            )\n",
              "            (output): BertSelfOutput(\n",
              "              (dense): Linear(in_features=768, out_features=768, bias=True)\n",
              "              (LayerNorm): LayerNorm((768,), eps=1e-12, elementwise_affine=True)\n",
              "              (dropout): Dropout(p=0.1, inplace=False)\n",
              "            )\n",
              "          )\n",
              "          (intermediate): BertIntermediate(\n",
              "            (dense): Linear(in_features=768, out_features=3072, bias=True)\n",
              "          )\n",
              "          (output): BertOutput(\n",
              "            (dense): Linear(in_features=3072, out_features=768, bias=True)\n",
              "            (LayerNorm): LayerNorm((768,), eps=1e-12, elementwise_affine=True)\n",
              "            (dropout): Dropout(p=0.1, inplace=False)\n",
              "          )\n",
              "        )\n",
              "        (7): BertLayer(\n",
              "          (attention): BertAttention(\n",
              "            (self): BertSelfAttention(\n",
              "              (query): Linear(in_features=768, out_features=768, bias=True)\n",
              "              (key): Linear(in_features=768, out_features=768, bias=True)\n",
              "              (value): Linear(in_features=768, out_features=768, bias=True)\n",
              "              (dropout): Dropout(p=0.1, inplace=False)\n",
              "            )\n",
              "            (output): BertSelfOutput(\n",
              "              (dense): Linear(in_features=768, out_features=768, bias=True)\n",
              "              (LayerNorm): LayerNorm((768,), eps=1e-12, elementwise_affine=True)\n",
              "              (dropout): Dropout(p=0.1, inplace=False)\n",
              "            )\n",
              "          )\n",
              "          (intermediate): BertIntermediate(\n",
              "            (dense): Linear(in_features=768, out_features=3072, bias=True)\n",
              "          )\n",
              "          (output): BertOutput(\n",
              "            (dense): Linear(in_features=3072, out_features=768, bias=True)\n",
              "            (LayerNorm): LayerNorm((768,), eps=1e-12, elementwise_affine=True)\n",
              "            (dropout): Dropout(p=0.1, inplace=False)\n",
              "          )\n",
              "        )\n",
              "        (8): BertLayer(\n",
              "          (attention): BertAttention(\n",
              "            (self): BertSelfAttention(\n",
              "              (query): Linear(in_features=768, out_features=768, bias=True)\n",
              "              (key): Linear(in_features=768, out_features=768, bias=True)\n",
              "              (value): Linear(in_features=768, out_features=768, bias=True)\n",
              "              (dropout): Dropout(p=0.1, inplace=False)\n",
              "            )\n",
              "            (output): BertSelfOutput(\n",
              "              (dense): Linear(in_features=768, out_features=768, bias=True)\n",
              "              (LayerNorm): LayerNorm((768,), eps=1e-12, elementwise_affine=True)\n",
              "              (dropout): Dropout(p=0.1, inplace=False)\n",
              "            )\n",
              "          )\n",
              "          (intermediate): BertIntermediate(\n",
              "            (dense): Linear(in_features=768, out_features=3072, bias=True)\n",
              "          )\n",
              "          (output): BertOutput(\n",
              "            (dense): Linear(in_features=3072, out_features=768, bias=True)\n",
              "            (LayerNorm): LayerNorm((768,), eps=1e-12, elementwise_affine=True)\n",
              "            (dropout): Dropout(p=0.1, inplace=False)\n",
              "          )\n",
              "        )\n",
              "        (9): BertLayer(\n",
              "          (attention): BertAttention(\n",
              "            (self): BertSelfAttention(\n",
              "              (query): Linear(in_features=768, out_features=768, bias=True)\n",
              "              (key): Linear(in_features=768, out_features=768, bias=True)\n",
              "              (value): Linear(in_features=768, out_features=768, bias=True)\n",
              "              (dropout): Dropout(p=0.1, inplace=False)\n",
              "            )\n",
              "            (output): BertSelfOutput(\n",
              "              (dense): Linear(in_features=768, out_features=768, bias=True)\n",
              "              (LayerNorm): LayerNorm((768,), eps=1e-12, elementwise_affine=True)\n",
              "              (dropout): Dropout(p=0.1, inplace=False)\n",
              "            )\n",
              "          )\n",
              "          (intermediate): BertIntermediate(\n",
              "            (dense): Linear(in_features=768, out_features=3072, bias=True)\n",
              "          )\n",
              "          (output): BertOutput(\n",
              "            (dense): Linear(in_features=3072, out_features=768, bias=True)\n",
              "            (LayerNorm): LayerNorm((768,), eps=1e-12, elementwise_affine=True)\n",
              "            (dropout): Dropout(p=0.1, inplace=False)\n",
              "          )\n",
              "        )\n",
              "        (10): BertLayer(\n",
              "          (attention): BertAttention(\n",
              "            (self): BertSelfAttention(\n",
              "              (query): Linear(in_features=768, out_features=768, bias=True)\n",
              "              (key): Linear(in_features=768, out_features=768, bias=True)\n",
              "              (value): Linear(in_features=768, out_features=768, bias=True)\n",
              "              (dropout): Dropout(p=0.1, inplace=False)\n",
              "            )\n",
              "            (output): BertSelfOutput(\n",
              "              (dense): Linear(in_features=768, out_features=768, bias=True)\n",
              "              (LayerNorm): LayerNorm((768,), eps=1e-12, elementwise_affine=True)\n",
              "              (dropout): Dropout(p=0.1, inplace=False)\n",
              "            )\n",
              "          )\n",
              "          (intermediate): BertIntermediate(\n",
              "            (dense): Linear(in_features=768, out_features=3072, bias=True)\n",
              "          )\n",
              "          (output): BertOutput(\n",
              "            (dense): Linear(in_features=3072, out_features=768, bias=True)\n",
              "            (LayerNorm): LayerNorm((768,), eps=1e-12, elementwise_affine=True)\n",
              "            (dropout): Dropout(p=0.1, inplace=False)\n",
              "          )\n",
              "        )\n",
              "        (11): BertLayer(\n",
              "          (attention): BertAttention(\n",
              "            (self): BertSelfAttention(\n",
              "              (query): Linear(in_features=768, out_features=768, bias=True)\n",
              "              (key): Linear(in_features=768, out_features=768, bias=True)\n",
              "              (value): Linear(in_features=768, out_features=768, bias=True)\n",
              "              (dropout): Dropout(p=0.1, inplace=False)\n",
              "            )\n",
              "            (output): BertSelfOutput(\n",
              "              (dense): Linear(in_features=768, out_features=768, bias=True)\n",
              "              (LayerNorm): LayerNorm((768,), eps=1e-12, elementwise_affine=True)\n",
              "              (dropout): Dropout(p=0.1, inplace=False)\n",
              "            )\n",
              "          )\n",
              "          (intermediate): BertIntermediate(\n",
              "            (dense): Linear(in_features=768, out_features=3072, bias=True)\n",
              "          )\n",
              "          (output): BertOutput(\n",
              "            (dense): Linear(in_features=3072, out_features=768, bias=True)\n",
              "            (LayerNorm): LayerNorm((768,), eps=1e-12, elementwise_affine=True)\n",
              "            (dropout): Dropout(p=0.1, inplace=False)\n",
              "          )\n",
              "        )\n",
              "      )\n",
              "    )\n",
              "    (pooler): BertPooler(\n",
              "      (dense): Linear(in_features=768, out_features=768, bias=True)\n",
              "      (activation): Tanh()\n",
              "    )\n",
              "  )\n",
              "  (dropout): Dropout(p=0.1, inplace=False)\n",
              "  (classifier): Linear(in_features=768, out_features=5, bias=True)\n",
              ")"
            ]
          },
          "metadata": {},
          "execution_count": 148
        }
      ],
      "source": [
        "from transformers import BertForSequenceClassification, AdamW, BertConfig\n",
        "\n",
        "# Load BertForSequenceClassification, the pretrained BERT model with a single \n",
        "# linear classification layer on top. \n",
        "model = BertForSequenceClassification.from_pretrained(\n",
        "    \"bert-base-multilingual-uncased\", # Use the 12-layer BERT model, with an uncased vocab.\n",
        "    num_labels = len(df.category.unique()), # The number of output labels--2 for binary classification.\n",
        "                    # You can increase this for multi-class tasks.   \n",
        "    output_attentions = False, # Whether the model returns attentions weights.\n",
        "    output_hidden_states = False, # Whether the model returns all hidden-states.\n",
        ")\n",
        "\n",
        "# Tell pytorch to run this model on the GPU.\n",
        "model.cuda()"
      ]
    },
    {
      "cell_type": "markdown",
      "metadata": {
        "id": "e0Jv6c7-HHDW"
      },
      "source": [
        "Just for curiosity's sake, we can browse all of the model's parameters by name here.\n",
        "\n",
        "In the below cell, I've printed out the names and dimensions of the weights for:\n",
        "\n",
        "1. The embedding layer.\n",
        "2. The first of the twelve transformers.\n",
        "3. The output layer.\n",
        "\n",
        "\n"
      ]
    },
    {
      "cell_type": "code",
      "execution_count": 149,
      "metadata": {
        "id": "a5cNVxcjeaDu"
      },
      "outputs": [],
      "source": [
        "b = model.bert.pooler.dense.weight\n",
        "c = model.classifier.weight\n",
        "b = b.cpu().detach().numpy()\n",
        "c = c.cpu().detach().numpy()"
      ]
    },
    {
      "cell_type": "code",
      "execution_count": 150,
      "metadata": {
        "colab": {
          "base_uri": "https://localhost:8080/"
        },
        "id": "8PIiVlDYCtSq",
        "outputId": "f5de92ea-8681-4fea-c8a4-05d2e729500c"
      },
      "outputs": [
        {
          "output_type": "stream",
          "name": "stdout",
          "text": [
            "The BERT model has 201 different named parameters.\n",
            "\n",
            "==== Embedding Layer ====\n",
            "\n",
            "bert.embeddings.word_embeddings.weight                  (105879, 768)\n",
            "bert.embeddings.position_embeddings.weight                (512, 768)\n",
            "bert.embeddings.token_type_embeddings.weight                (2, 768)\n",
            "bert.embeddings.LayerNorm.weight                              (768,)\n",
            "bert.embeddings.LayerNorm.bias                                (768,)\n",
            "\n",
            "==== First Transformer ====\n",
            "\n",
            "bert.encoder.layer.0.attention.self.query.weight          (768, 768)\n",
            "bert.encoder.layer.0.attention.self.query.bias                (768,)\n",
            "bert.encoder.layer.0.attention.self.key.weight            (768, 768)\n",
            "bert.encoder.layer.0.attention.self.key.bias                  (768,)\n",
            "bert.encoder.layer.0.attention.self.value.weight          (768, 768)\n",
            "bert.encoder.layer.0.attention.self.value.bias                (768,)\n",
            "bert.encoder.layer.0.attention.output.dense.weight        (768, 768)\n",
            "bert.encoder.layer.0.attention.output.dense.bias              (768,)\n",
            "bert.encoder.layer.0.attention.output.LayerNorm.weight        (768,)\n",
            "bert.encoder.layer.0.attention.output.LayerNorm.bias          (768,)\n",
            "bert.encoder.layer.0.intermediate.dense.weight           (3072, 768)\n",
            "bert.encoder.layer.0.intermediate.dense.bias                 (3072,)\n",
            "bert.encoder.layer.0.output.dense.weight                 (768, 3072)\n",
            "bert.encoder.layer.0.output.dense.bias                        (768,)\n",
            "bert.encoder.layer.0.output.LayerNorm.weight                  (768,)\n",
            "bert.encoder.layer.0.output.LayerNorm.bias                    (768,)\n",
            "\n",
            "==== Output Layer ====\n",
            "\n",
            "bert.pooler.dense.weight                                  (768, 768)\n",
            "bert.pooler.dense.bias                                        (768,)\n",
            "classifier.weight                                           (5, 768)\n",
            "classifier.bias                                                 (5,)\n"
          ]
        }
      ],
      "source": [
        "# Get all of the model's parameters as a list of tuples.\n",
        "params = list(model.named_parameters())\n",
        "\n",
        "print('The BERT model has {:} different named parameters.\\n'.format(len(params)))\n",
        "\n",
        "print('==== Embedding Layer ====\\n')\n",
        "\n",
        "for p in params[0:5]:\n",
        "    print(\"{:<55} {:>12}\".format(p[0], str(tuple(p[1].size()))))\n",
        "\n",
        "print('\\n==== First Transformer ====\\n')\n",
        "\n",
        "for p in params[5:21]:\n",
        "    print(\"{:<55} {:>12}\".format(p[0], str(tuple(p[1].size()))))\n",
        "\n",
        "print('\\n==== Output Layer ====\\n')\n",
        "\n",
        "for p in params[-4:]:\n",
        "    print(\"{:<55} {:>12}\".format(p[0], str(tuple(p[1].size()))))"
      ]
    },
    {
      "cell_type": "markdown",
      "metadata": {
        "id": "qRWT-D4U_Pvx"
      },
      "source": [
        "## 4.2. Optimizer & Learning Rate Scheduler"
      ]
    },
    {
      "cell_type": "markdown",
      "metadata": {
        "id": "8o-VEBobKwHk"
      },
      "source": [
        "Now that we have our model loaded we need to grab the training hyperparameters from within the stored model.\n",
        "\n",
        "For the purposes of fine-tuning, the authors recommend choosing from the following values:\n",
        "- Batch size: 16, 32  (We chose 32 when creating our DataLoaders).\n",
        "- Learning rate (Adam): 5e-5, 3e-5, 2e-5  (We'll use 2e-5).\n",
        "- Number of epochs: 2, 3, 4  (We'll use 4).\n",
        "\n",
        "The epsilon parameter `eps = 1e-8` is \"a very small number to prevent any division by zero in the implementation\" (from [here](https://machinelearningmastery.com/adam-optimization-algorithm-for-deep-learning/)).\n",
        "\n",
        "You can find the creation of the AdamW optimizer in `run_glue.py` [here](https://github.com/huggingface/transformers/blob/5bfcd0485ece086ebcbed2d008813037968a9e58/examples/run_glue.py#L109)."
      ]
    },
    {
      "cell_type": "code",
      "execution_count": 151,
      "metadata": {
        "id": "GLs72DuMODJO"
      },
      "outputs": [],
      "source": [
        "# Note: AdamW is a class from the huggingface library (as opposed to pytorch) \n",
        "# I believe the 'W' stands for 'Weight Decay fix\"\n",
        "optimizer = AdamW(model.parameters(),\n",
        "                  lr = 2e-5, # args.learning_rate - default is 5e-5, our notebook had 2e-5\n",
        "                  eps = 1e-8 # args.adam_epsilon  - default is 1e-8.\n",
        "                )\n"
      ]
    },
    {
      "cell_type": "code",
      "execution_count": 152,
      "metadata": {
        "id": "-p0upAhhRiIx"
      },
      "outputs": [],
      "source": [
        "from transformers import get_linear_schedule_with_warmup\n",
        "\n",
        "# Number of training epochs (authors recommend between 2 and 4)\n",
        "epochs = 4\n",
        "\n",
        "# Total number of training steps is number of batches * number of epochs.\n",
        "total_steps = len(train_dataloader) * epochs\n",
        "\n",
        "# Create the learning rate scheduler.\n",
        "scheduler = get_linear_schedule_with_warmup(optimizer, \n",
        "                                            num_warmup_steps = 100, # Default value in run_glue.py\n",
        "                                            num_training_steps = total_steps)"
      ]
    },
    {
      "cell_type": "markdown",
      "metadata": {
        "id": "RqfmWwUR_Sox"
      },
      "source": [
        "## 4.3. Training Loop"
      ]
    },
    {
      "cell_type": "markdown",
      "metadata": {
        "id": "_QXZhFb4LnV5"
      },
      "source": [
        "Below is our training loop. There's a lot going on, but fundamentally for each pass in our loop we have a trianing phase and a validation phase. At each pass we need to:\n",
        "\n",
        "Training loop:\n",
        "- Unpack our data inputs and labels\n",
        "- Load data onto the GPU for acceleration\n",
        "- Clear out the gradients calculated in the previous pass. \n",
        "    - In pytorch the gradients accumulate by default (useful for things like RNNs) unless you explicitly clear them out.\n",
        "- Forward pass (feed input data through the network)\n",
        "- Backward pass (backpropagation)\n",
        "- Tell the network to update parameters with optimizer.step()\n",
        "- Track variables for monitoring progress\n",
        "\n",
        "Evalution loop:\n",
        "- Unpack our data inputs and labels\n",
        "- Load data onto the GPU for acceleration\n",
        "- Forward pass (feed input data through the network)\n",
        "- Compute loss on our validation data and track variables for monitoring progress\n",
        "\n",
        "So please read carefully through the comments to get an understanding of what's happening. If you're unfamiliar with pytorch a quick look at some of their [beginner tutorials](https://pytorch.org/tutorials/beginner/blitz/cifar10_tutorial.html#sphx-glr-beginner-blitz-cifar10-tutorial-py) will help show you that training loops really involve only a few simple steps; the rest is usually just decoration and logging.  "
      ]
    },
    {
      "cell_type": "markdown",
      "metadata": {
        "id": "pE5B99H5H2-W"
      },
      "source": [
        "Define a helper function for calculating accuracy."
      ]
    },
    {
      "cell_type": "code",
      "execution_count": 153,
      "metadata": {
        "id": "9cQNvaZ9bnyy"
      },
      "outputs": [],
      "source": [
        "import numpy as np\n",
        "from sklearn.metrics import f1_score\n",
        "\n",
        "# Function to calculate the accuracy of our predictions vs labels\n",
        "def flat_accuracy(preds, labels):\n",
        "    pred_flat = np.argmax(preds, axis=1).flatten()\n",
        "    labels_flat = labels.flatten()\n",
        "    return np.sum(pred_flat == labels_flat) / len(labels_flat)\n",
        "#немного поздно осознала, что это одно и то же, поэтому обе метрики есть на этапе трейна, а потом считала только accuracy\n",
        "def flat_f1(preds, labels):\n",
        "    pred_flat = np.argmax(preds, axis=1).flatten()\n",
        "    labels_flat = labels.flatten()\n",
        "    return f1_score(labels_flat, pred_flat, average='micro')"
      ]
    },
    {
      "cell_type": "markdown",
      "metadata": {
        "id": "KNhRtWPXH9C3"
      },
      "source": [
        "Helper function for formatting elapsed times.\n"
      ]
    },
    {
      "cell_type": "code",
      "execution_count": 154,
      "metadata": {
        "id": "gpt6tR83keZD"
      },
      "outputs": [],
      "source": [
        "import time\n",
        "import datetime\n",
        "\n",
        "def format_time(elapsed):\n",
        "    '''\n",
        "    Takes a time in seconds and returns a string hh:mm:ss\n",
        "    '''\n",
        "    # Round to the nearest second.\n",
        "    elapsed_rounded = int(round((elapsed)))\n",
        "    \n",
        "    # Format as hh:mm:ss\n",
        "    return str(datetime.timedelta(seconds=elapsed_rounded))\n"
      ]
    },
    {
      "cell_type": "markdown",
      "metadata": {
        "id": "cfNIhN19te3N"
      },
      "source": [
        "We're ready to kick off the training!"
      ]
    },
    {
      "cell_type": "code",
      "execution_count": 155,
      "metadata": {
        "colab": {
          "base_uri": "https://localhost:8080/"
        },
        "id": "6J-FYdx6nFE_",
        "outputId": "0afb3c28-3a31-4427-b76b-a7b8d8fa56f5"
      },
      "outputs": [
        {
          "output_type": "stream",
          "name": "stdout",
          "text": [
            "\n",
            "======== Epoch 1 / 4 ========\n",
            "Training...\n",
            "  Batch    40  of  1,672.    Elapsed: 0:00:33.\n",
            "  Batch    80  of  1,672.    Elapsed: 0:01:06.\n",
            "  Batch   120  of  1,672.    Elapsed: 0:01:40.\n",
            "  Batch   160  of  1,672.    Elapsed: 0:02:13.\n",
            "  Batch   200  of  1,672.    Elapsed: 0:02:46.\n",
            "  Batch   240  of  1,672.    Elapsed: 0:03:20.\n",
            "  Batch   280  of  1,672.    Elapsed: 0:03:53.\n",
            "  Batch   320  of  1,672.    Elapsed: 0:04:26.\n",
            "  Batch   360  of  1,672.    Elapsed: 0:04:59.\n",
            "  Batch   400  of  1,672.    Elapsed: 0:05:33.\n",
            "  Batch   440  of  1,672.    Elapsed: 0:06:06.\n",
            "  Batch   480  of  1,672.    Elapsed: 0:06:39.\n",
            "  Batch   520  of  1,672.    Elapsed: 0:07:13.\n",
            "  Batch   560  of  1,672.    Elapsed: 0:07:46.\n",
            "  Batch   600  of  1,672.    Elapsed: 0:08:19.\n",
            "  Batch   640  of  1,672.    Elapsed: 0:08:53.\n",
            "  Batch   680  of  1,672.    Elapsed: 0:09:26.\n",
            "  Batch   720  of  1,672.    Elapsed: 0:09:59.\n",
            "  Batch   760  of  1,672.    Elapsed: 0:10:33.\n",
            "  Batch   800  of  1,672.    Elapsed: 0:11:06.\n",
            "  Batch   840  of  1,672.    Elapsed: 0:11:39.\n",
            "  Batch   880  of  1,672.    Elapsed: 0:12:13.\n",
            "  Batch   920  of  1,672.    Elapsed: 0:12:46.\n",
            "  Batch   960  of  1,672.    Elapsed: 0:13:19.\n",
            "  Batch 1,000  of  1,672.    Elapsed: 0:13:53.\n",
            "  Batch 1,040  of  1,672.    Elapsed: 0:14:26.\n",
            "  Batch 1,080  of  1,672.    Elapsed: 0:14:59.\n",
            "  Batch 1,120  of  1,672.    Elapsed: 0:15:32.\n",
            "  Batch 1,160  of  1,672.    Elapsed: 0:16:06.\n",
            "  Batch 1,200  of  1,672.    Elapsed: 0:16:39.\n",
            "  Batch 1,240  of  1,672.    Elapsed: 0:17:12.\n",
            "  Batch 1,280  of  1,672.    Elapsed: 0:17:45.\n",
            "  Batch 1,320  of  1,672.    Elapsed: 0:18:19.\n",
            "  Batch 1,360  of  1,672.    Elapsed: 0:18:52.\n",
            "  Batch 1,400  of  1,672.    Elapsed: 0:19:25.\n",
            "  Batch 1,440  of  1,672.    Elapsed: 0:19:59.\n",
            "  Batch 1,480  of  1,672.    Elapsed: 0:20:32.\n",
            "  Batch 1,520  of  1,672.    Elapsed: 0:21:05.\n",
            "  Batch 1,560  of  1,672.    Elapsed: 0:21:38.\n",
            "  Batch 1,600  of  1,672.    Elapsed: 0:22:12.\n",
            "  Batch 1,640  of  1,672.    Elapsed: 0:22:45.\n",
            "\n",
            "  Average training loss: 0.64\n",
            "  Training epcoh took: 0:23:11\n",
            "\n",
            "Running Validation...\n",
            "  Accuracy: 0.83\n",
            "  F1: 0.83\n",
            "  Validation took: 0:00:54\n",
            "\n",
            "======== Epoch 2 / 4 ========\n",
            "Training...\n",
            "  Batch    40  of  1,672.    Elapsed: 0:00:33.\n",
            "  Batch    80  of  1,672.    Elapsed: 0:01:07.\n",
            "  Batch   120  of  1,672.    Elapsed: 0:01:40.\n",
            "  Batch   160  of  1,672.    Elapsed: 0:02:13.\n",
            "  Batch   200  of  1,672.    Elapsed: 0:02:46.\n",
            "  Batch   240  of  1,672.    Elapsed: 0:03:20.\n",
            "  Batch   280  of  1,672.    Elapsed: 0:03:53.\n",
            "  Batch   320  of  1,672.    Elapsed: 0:04:26.\n",
            "  Batch   360  of  1,672.    Elapsed: 0:04:59.\n",
            "  Batch   400  of  1,672.    Elapsed: 0:05:33.\n",
            "  Batch   440  of  1,672.    Elapsed: 0:06:06.\n",
            "  Batch   480  of  1,672.    Elapsed: 0:06:39.\n",
            "  Batch   520  of  1,672.    Elapsed: 0:07:13.\n",
            "  Batch   560  of  1,672.    Elapsed: 0:07:46.\n",
            "  Batch   600  of  1,672.    Elapsed: 0:08:19.\n",
            "  Batch   640  of  1,672.    Elapsed: 0:08:52.\n",
            "  Batch   680  of  1,672.    Elapsed: 0:09:26.\n",
            "  Batch   720  of  1,672.    Elapsed: 0:09:59.\n",
            "  Batch   760  of  1,672.    Elapsed: 0:10:32.\n",
            "  Batch   800  of  1,672.    Elapsed: 0:11:06.\n",
            "  Batch   840  of  1,672.    Elapsed: 0:11:39.\n",
            "  Batch   880  of  1,672.    Elapsed: 0:12:12.\n",
            "  Batch   920  of  1,672.    Elapsed: 0:12:46.\n",
            "  Batch   960  of  1,672.    Elapsed: 0:13:19.\n",
            "  Batch 1,000  of  1,672.    Elapsed: 0:13:52.\n",
            "  Batch 1,040  of  1,672.    Elapsed: 0:14:25.\n",
            "  Batch 1,080  of  1,672.    Elapsed: 0:14:59.\n",
            "  Batch 1,120  of  1,672.    Elapsed: 0:15:32.\n",
            "  Batch 1,160  of  1,672.    Elapsed: 0:16:05.\n",
            "  Batch 1,200  of  1,672.    Elapsed: 0:16:38.\n",
            "  Batch 1,240  of  1,672.    Elapsed: 0:17:12.\n",
            "  Batch 1,280  of  1,672.    Elapsed: 0:17:45.\n",
            "  Batch 1,320  of  1,672.    Elapsed: 0:18:18.\n",
            "  Batch 1,360  of  1,672.    Elapsed: 0:18:51.\n",
            "  Batch 1,400  of  1,672.    Elapsed: 0:19:25.\n",
            "  Batch 1,440  of  1,672.    Elapsed: 0:19:58.\n",
            "  Batch 1,480  of  1,672.    Elapsed: 0:20:31.\n",
            "  Batch 1,520  of  1,672.    Elapsed: 0:21:05.\n",
            "  Batch 1,560  of  1,672.    Elapsed: 0:21:38.\n",
            "  Batch 1,600  of  1,672.    Elapsed: 0:22:11.\n",
            "  Batch 1,640  of  1,672.    Elapsed: 0:22:45.\n",
            "\n",
            "  Average training loss: 0.42\n",
            "  Training epcoh took: 0:23:11\n",
            "\n",
            "Running Validation...\n",
            "  Accuracy: 0.83\n",
            "  F1: 0.83\n",
            "  Validation took: 0:00:54\n",
            "\n",
            "======== Epoch 3 / 4 ========\n",
            "Training...\n",
            "  Batch    40  of  1,672.    Elapsed: 0:00:33.\n",
            "  Batch    80  of  1,672.    Elapsed: 0:01:07.\n",
            "  Batch   120  of  1,672.    Elapsed: 0:01:40.\n",
            "  Batch   160  of  1,672.    Elapsed: 0:02:13.\n",
            "  Batch   200  of  1,672.    Elapsed: 0:02:46.\n",
            "  Batch   240  of  1,672.    Elapsed: 0:03:20.\n",
            "  Batch   280  of  1,672.    Elapsed: 0:03:53.\n",
            "  Batch   320  of  1,672.    Elapsed: 0:04:26.\n",
            "  Batch   360  of  1,672.    Elapsed: 0:05:00.\n",
            "  Batch   400  of  1,672.    Elapsed: 0:05:33.\n",
            "  Batch   440  of  1,672.    Elapsed: 0:06:06.\n",
            "  Batch   480  of  1,672.    Elapsed: 0:06:39.\n",
            "  Batch   520  of  1,672.    Elapsed: 0:07:13.\n",
            "  Batch   560  of  1,672.    Elapsed: 0:07:46.\n",
            "  Batch   600  of  1,672.    Elapsed: 0:08:19.\n",
            "  Batch   640  of  1,672.    Elapsed: 0:08:53.\n",
            "  Batch   680  of  1,672.    Elapsed: 0:09:26.\n",
            "  Batch   720  of  1,672.    Elapsed: 0:09:59.\n",
            "  Batch   760  of  1,672.    Elapsed: 0:10:32.\n",
            "  Batch   800  of  1,672.    Elapsed: 0:11:06.\n",
            "  Batch   840  of  1,672.    Elapsed: 0:11:39.\n",
            "  Batch   880  of  1,672.    Elapsed: 0:12:12.\n",
            "  Batch   920  of  1,672.    Elapsed: 0:12:45.\n",
            "  Batch   960  of  1,672.    Elapsed: 0:13:19.\n",
            "  Batch 1,000  of  1,672.    Elapsed: 0:13:52.\n",
            "  Batch 1,040  of  1,672.    Elapsed: 0:14:25.\n",
            "  Batch 1,080  of  1,672.    Elapsed: 0:14:59.\n",
            "  Batch 1,120  of  1,672.    Elapsed: 0:15:32.\n",
            "  Batch 1,160  of  1,672.    Elapsed: 0:16:05.\n",
            "  Batch 1,200  of  1,672.    Elapsed: 0:16:38.\n",
            "  Batch 1,240  of  1,672.    Elapsed: 0:17:12.\n",
            "  Batch 1,280  of  1,672.    Elapsed: 0:17:45.\n",
            "  Batch 1,320  of  1,672.    Elapsed: 0:18:18.\n",
            "  Batch 1,360  of  1,672.    Elapsed: 0:18:52.\n",
            "  Batch 1,400  of  1,672.    Elapsed: 0:19:25.\n",
            "  Batch 1,440  of  1,672.    Elapsed: 0:19:58.\n",
            "  Batch 1,480  of  1,672.    Elapsed: 0:20:31.\n",
            "  Batch 1,520  of  1,672.    Elapsed: 0:21:05.\n",
            "  Batch 1,560  of  1,672.    Elapsed: 0:21:38.\n",
            "  Batch 1,600  of  1,672.    Elapsed: 0:22:11.\n",
            "  Batch 1,640  of  1,672.    Elapsed: 0:22:45.\n",
            "\n",
            "  Average training loss: 0.32\n",
            "  Training epcoh took: 0:23:11\n",
            "\n",
            "Running Validation...\n",
            "  Accuracy: 0.84\n",
            "  F1: 0.84\n",
            "  Validation took: 0:00:54\n",
            "\n",
            "======== Epoch 4 / 4 ========\n",
            "Training...\n",
            "  Batch    40  of  1,672.    Elapsed: 0:00:33.\n",
            "  Batch    80  of  1,672.    Elapsed: 0:01:07.\n",
            "  Batch   120  of  1,672.    Elapsed: 0:01:40.\n",
            "  Batch   160  of  1,672.    Elapsed: 0:02:13.\n",
            "  Batch   200  of  1,672.    Elapsed: 0:02:47.\n",
            "  Batch   240  of  1,672.    Elapsed: 0:03:20.\n",
            "  Batch   280  of  1,672.    Elapsed: 0:03:53.\n",
            "  Batch   320  of  1,672.    Elapsed: 0:04:26.\n",
            "  Batch   360  of  1,672.    Elapsed: 0:05:00.\n",
            "  Batch   400  of  1,672.    Elapsed: 0:05:33.\n",
            "  Batch   440  of  1,672.    Elapsed: 0:06:06.\n",
            "  Batch   480  of  1,672.    Elapsed: 0:06:40.\n",
            "  Batch   520  of  1,672.    Elapsed: 0:07:13.\n",
            "  Batch   560  of  1,672.    Elapsed: 0:07:46.\n",
            "  Batch   600  of  1,672.    Elapsed: 0:08:20.\n",
            "  Batch   640  of  1,672.    Elapsed: 0:08:53.\n",
            "  Batch   680  of  1,672.    Elapsed: 0:09:26.\n",
            "  Batch   720  of  1,672.    Elapsed: 0:10:00.\n",
            "  Batch   760  of  1,672.    Elapsed: 0:10:33.\n",
            "  Batch   800  of  1,672.    Elapsed: 0:11:06.\n",
            "  Batch   840  of  1,672.    Elapsed: 0:11:40.\n",
            "  Batch   880  of  1,672.    Elapsed: 0:12:13.\n",
            "  Batch   920  of  1,672.    Elapsed: 0:12:46.\n",
            "  Batch   960  of  1,672.    Elapsed: 0:13:20.\n",
            "  Batch 1,000  of  1,672.    Elapsed: 0:13:53.\n",
            "  Batch 1,040  of  1,672.    Elapsed: 0:14:26.\n",
            "  Batch 1,080  of  1,672.    Elapsed: 0:14:59.\n",
            "  Batch 1,120  of  1,672.    Elapsed: 0:15:33.\n",
            "  Batch 1,160  of  1,672.    Elapsed: 0:16:06.\n",
            "  Batch 1,200  of  1,672.    Elapsed: 0:16:39.\n",
            "  Batch 1,240  of  1,672.    Elapsed: 0:17:13.\n",
            "  Batch 1,280  of  1,672.    Elapsed: 0:17:46.\n",
            "  Batch 1,320  of  1,672.    Elapsed: 0:18:19.\n",
            "  Batch 1,360  of  1,672.    Elapsed: 0:18:53.\n",
            "  Batch 1,400  of  1,672.    Elapsed: 0:19:26.\n",
            "  Batch 1,440  of  1,672.    Elapsed: 0:19:59.\n",
            "  Batch 1,480  of  1,672.    Elapsed: 0:20:33.\n",
            "  Batch 1,520  of  1,672.    Elapsed: 0:21:06.\n",
            "  Batch 1,560  of  1,672.    Elapsed: 0:21:39.\n",
            "  Batch 1,600  of  1,672.    Elapsed: 0:22:12.\n",
            "  Batch 1,640  of  1,672.    Elapsed: 0:22:46.\n",
            "\n",
            "  Average training loss: 0.24\n",
            "  Training epcoh took: 0:23:12\n",
            "\n",
            "Running Validation...\n",
            "  Accuracy: 0.84\n",
            "  F1: 0.84\n",
            "  Validation took: 0:00:54\n",
            "\n",
            "Training complete!\n"
          ]
        }
      ],
      "source": [
        "import random\n",
        "\n",
        "# This training code is based on the `run_glue.py` script here:\n",
        "# https://github.com/huggingface/transformers/blob/5bfcd0485ece086ebcbed2d008813037968a9e58/examples/run_glue.py#L128\n",
        "\n",
        "\n",
        "# Set the seed value all over the place to make this reproducible.\n",
        "seed_val = 42\n",
        "\n",
        "random.seed(seed_val)\n",
        "np.random.seed(seed_val)\n",
        "torch.manual_seed(seed_val)\n",
        "torch.cuda.manual_seed_all(seed_val)\n",
        "\n",
        "# Store the average loss after each epoch so we can plot them.\n",
        "loss_values = []\n",
        "\n",
        "# For each epoch...\n",
        "for epoch_i in range(0, epochs):\n",
        "    \n",
        "    # ========================================\n",
        "    #               Training\n",
        "    # ========================================\n",
        "    \n",
        "    # Perform one full pass over the training set.\n",
        "\n",
        "    print(\"\")\n",
        "    print('======== Epoch {:} / {:} ========'.format(epoch_i + 1, epochs))\n",
        "    print('Training...')\n",
        "\n",
        "    # Measure how long the training epoch takes.\n",
        "    t0 = time.time()\n",
        "\n",
        "    # Reset the total loss for this epoch.\n",
        "    total_loss = 0\n",
        "\n",
        "    # Put the model into training mode. Don't be mislead--the call to \n",
        "    # `train` just changes the *mode*, it doesn't *perform* the training.\n",
        "    # `dropout` and `batchnorm` layers behave differently during training\n",
        "    # vs. test (source: https://stackoverflow.com/questions/51433378/what-does-model-train-do-in-pytorch)\n",
        "    model.train()\n",
        "\n",
        "    # For each batch of training data...\n",
        "    for step, batch in enumerate(train_dataloader):\n",
        "\n",
        "        # Progress update every 40 batches.\n",
        "        if step % 40 == 0 and not step == 0:\n",
        "            # Calculate elapsed time in minutes.\n",
        "            elapsed = format_time(time.time() - t0)\n",
        "            \n",
        "            # Report progress.\n",
        "            print('  Batch {:>5,}  of  {:>5,}.    Elapsed: {:}.'.format(step, len(train_dataloader), elapsed))\n",
        "\n",
        "        # Unpack this training batch from our dataloader. \n",
        "        #\n",
        "        # As we unpack the batch, we'll also copy each tensor to the GPU using the \n",
        "        # `to` method.\n",
        "        #\n",
        "        # `batch` contains three pytorch tensors:\n",
        "        #   [0]: input ids \n",
        "        #   [1]: attention masks\n",
        "        #   [2]: labels \n",
        "        b_input_ids = batch[0].to(device)\n",
        "        b_input_mask = batch[1].to(device)\n",
        "        b_labels = batch[2].to(device)\n",
        "\n",
        "        # Always clear any previously calculated gradients before performing a\n",
        "        # backward pass. PyTorch doesn't do this automatically because \n",
        "        # accumulating the gradients is \"convenient while training RNNs\". \n",
        "        # (source: https://stackoverflow.com/questions/48001598/why-do-we-need-to-call-zero-grad-in-pytorch)\n",
        "        model.zero_grad()        \n",
        "\n",
        "        # Perform a forward pass (evaluate the model on this training batch).\n",
        "        # This will return the loss (rather than the model output) because we\n",
        "        # have provided the `labels`.\n",
        "        # The documentation for this `model` function is here: \n",
        "        # https://huggingface.co/transformers/v2.2.0/model_doc/bert.html#transformers.BertForSequenceClassification\n",
        "        outputs = model(b_input_ids, \n",
        "                    token_type_ids=None, \n",
        "                    attention_mask=b_input_mask, \n",
        "                    labels=b_labels)\n",
        "        \n",
        "        # The call to `model` always returns a tuple, so we need to pull the \n",
        "        # loss value out of the tuple.\n",
        "        loss = outputs[0]\n",
        "\n",
        "        # Accumulate the training loss over all of the batches so that we can\n",
        "        # calculate the average loss at the end. `loss` is a Tensor containing a\n",
        "        # single value; the `.item()` function just returns the Python value \n",
        "        # from the tensor.\n",
        "        total_loss += loss.item()\n",
        "\n",
        "        # Perform a backward pass to calculate the gradients.\n",
        "        loss.backward()\n",
        "\n",
        "        # Clip the norm of the gradients to 1.0.\n",
        "        # This is to help prevent the \"exploding gradients\" problem.\n",
        "        torch.nn.utils.clip_grad_norm_(model.parameters(), 1.0)\n",
        "\n",
        "        # Update parameters and take a step using the computed gradient.\n",
        "        # The optimizer dictates the \"update rule\"--how the parameters are\n",
        "        # modified based on their gradients, the learning rate, etc.\n",
        "        optimizer.step()\n",
        "\n",
        "        # Update the learning rate.\n",
        "        scheduler.step()\n",
        "\n",
        "    # Calculate the average loss over the training data.\n",
        "    avg_train_loss = total_loss / len(train_dataloader)            \n",
        "    \n",
        "    # Store the loss value for plotting the learning curve.\n",
        "    loss_values.append(avg_train_loss)\n",
        "\n",
        "    print(\"\")\n",
        "    print(\"  Average training loss: {0:.2f}\".format(avg_train_loss))\n",
        "    print(\"  Training epcoh took: {:}\".format(format_time(time.time() - t0)))\n",
        "        \n",
        "    # ========================================\n",
        "    #               Validation\n",
        "    # ========================================\n",
        "    # After the completion of each training epoch, measure our performance on\n",
        "    # our validation set.\n",
        "\n",
        "    print(\"\")\n",
        "    print(\"Running Validation...\")\n",
        "\n",
        "    t0 = time.time()\n",
        "\n",
        "    # Put the model in evaluation mode--the dropout layers behave differently\n",
        "    # during evaluation.\n",
        "    model.eval()\n",
        "\n",
        "    # Tracking variables \n",
        "    eval_loss, eval_accuracy, eval_f1 = 0, 0, 0\n",
        "    nb_eval_steps, nb_eval_examples = 0, 0\n",
        "\n",
        "    # Evaluate data for one epoch\n",
        "    for batch in validation_dataloader:\n",
        "        \n",
        "        # Add batch to GPU\n",
        "        batch = tuple(t.to(device) for t in batch)\n",
        "        \n",
        "        # Unpack the inputs from our dataloader\n",
        "        b_input_ids, b_input_mask, b_labels = batch\n",
        "        \n",
        "        # Telling the model not to compute or store gradients, saving memory and\n",
        "        # speeding up validation\n",
        "        with torch.no_grad():        \n",
        "\n",
        "            # Forward pass, calculate logit predictions.\n",
        "            # This will return the logits rather than the loss because we have\n",
        "            # not provided labels.\n",
        "            # token_type_ids is the same as the \"segment ids\", which \n",
        "            # differentiates sentence 1 and 2 in 2-sentence tasks.\n",
        "            # The documentation for this `model` function is here: \n",
        "            # https://huggingface.co/transformers/v2.2.0/model_doc/bert.html#transformers.BertForSequenceClassification\n",
        "            outputs = model(b_input_ids, \n",
        "                            token_type_ids=None, \n",
        "                            attention_mask=b_input_mask)\n",
        "        \n",
        "        # Get the \"logits\" output by the model. The \"logits\" are the output\n",
        "        # values prior to applying an activation function like the softmax.\n",
        "        logits = outputs[0]\n",
        "\n",
        "        # Move logits and labels to CPU\n",
        "        logits = logits.detach().cpu().numpy()\n",
        "        label_ids = b_labels.to('cpu').numpy()\n",
        "        \n",
        "        # Calculate the accuracy for this batch of test sentences.\n",
        "        tmp_eval_accuracy = flat_accuracy(logits, label_ids)\n",
        "        tmp_eval_f1 = flat_f1(logits, label_ids)\n",
        "        # Accumulate the total accuracy.\n",
        "        eval_accuracy += tmp_eval_accuracy\n",
        "        eval_f1 += tmp_eval_f1\n",
        "\n",
        "        # Track the number of batches\n",
        "        nb_eval_steps += 1\n",
        "\n",
        "    # Report the final accuracy for this validation run.\n",
        "    print(\"  Accuracy: {0:.2f}\".format(eval_accuracy/nb_eval_steps))\n",
        "    print(\"  F1: {0:.2f}\".format(eval_f1/nb_eval_steps))\n",
        "    print(\"  Validation took: {:}\".format(format_time(time.time() - t0)))\n",
        "\n",
        "print(\"\")\n",
        "print(\"Training complete!\")"
      ]
    },
    {
      "cell_type": "markdown",
      "metadata": {
        "id": "1-G03mmwH3aI"
      },
      "source": [
        "Let's take a look at our training loss over all batches:"
      ]
    },
    {
      "cell_type": "code",
      "execution_count": 168,
      "metadata": {
        "id": "68xreA9JAmG5",
        "colab": {
          "base_uri": "https://localhost:8080/",
          "height": 427
        },
        "outputId": "61d6069a-e299-4002-fc11-2310028d0432"
      },
      "outputs": [
        {
          "output_type": "display_data",
          "data": {
            "image/png": "[encoded data removed]",
            "text/plain": [
              "<Figure size 864x432 with 1 Axes>"
            ]
          },
          "metadata": {}
        }
      ],
      "source": [
        "import matplotlib.pyplot as plt\n",
        "% matplotlib inline\n",
        "\n",
        "import seaborn as sns\n",
        "\n",
        "# Use plot styling from seaborn.\n",
        "sns.set(style='darkgrid')\n",
        "\n",
        "# Increase the plot size and font size.\n",
        "sns.set(font_scale=1.5)\n",
        "plt.rcParams[\"figure.figsize\"] = (12,6)\n",
        "\n",
        "# Plot the learning curve.\n",
        "plt.plot(loss_values, 'b-o')\n",
        "\n",
        "# Label the plot.\n",
        "plt.title(\"Training loss\")\n",
        "plt.xlabel(\"Epoch\")\n",
        "plt.ylabel(\"Loss\")\n",
        "\n",
        "plt.show()"
      ]
    },
    {
      "cell_type": "markdown",
      "metadata": {
        "id": "mkyubuJSOzg3"
      },
      "source": [
        "# 5. Performance On Test Set"
      ]
    },
    {
      "cell_type": "markdown",
      "metadata": {
        "id": "DosV94BYIYxg"
      },
      "source": [
        "Now we'll load the holdout dataset and prepare inputs just as we did with the training set. Then we'll evaluate predictions using [Matthew's correlation coefficient](https://scikit-learn.org/stable/modules/generated/sklearn.metrics.matthews_corrcoef.html) because this is the metric used by the wider NLP community to evaluate performance on CoLA. With this metric, +1 is the best score, and -1 is the worst score. This way, we can see how well we perform against the state of the art models for this specific task."
      ]
    },
    {
      "cell_type": "markdown",
      "metadata": {
        "id": "Tg42jJqqM68F"
      },
      "source": [
        "### 5.1. Data Preparation\n"
      ]
    },
    {
      "cell_type": "markdown",
      "metadata": {
        "id": "xWe0_JW21MyV"
      },
      "source": [
        "\n",
        "We'll need to apply all of the same steps that we did for the training data to prepare our test data set."
      ]
    },
    {
      "cell_type": "code",
      "execution_count": 158,
      "metadata": {
        "id": "mAN0LZBOOPVh"
      },
      "outputs": [],
      "source": [
        "import pandas as pd\n",
        "\n",
        "# Load the dataset into a pandas dataframe.\n",
        "#df = pd.read_csv(\"./cola_public/raw/out_of_domain_dev.tsv\", delimiter='\\t', header=None, names=['sentence_source', 'label', 'label_notes', 'sentence'])\n",
        "\n",
        "# Report the number of sentences.\n",
        "#print('Number of test sentences: {:,}\\n'.format(df.shape[0]))\n",
        "\n",
        "# Create sentence and label lists\n",
        "sentences = x_test\n",
        "labels = y_test\n",
        "\n",
        "# Tokenize all of the sentences and map the tokens to thier word IDs.\n",
        "input_ids = []\n",
        "\n",
        "# For every sentence...\n",
        "for sent in sentences:\n",
        "    # `encode` will:\n",
        "    #   (1) Tokenize the sentence.\n",
        "    #   (2) Prepend the `[CLS]` token to the start.\n",
        "    #   (3) Append the `[SEP]` token to the end.\n",
        "    #   (4) Map tokens to their IDs.\n",
        "    encoded_sent = tokenizer.encode(\n",
        "                        sent,                      # Sentence to encode.\n",
        "                        add_special_tokens = True, # Add '[CLS]' and '[SEP]'\n",
        "                   )\n",
        "    \n",
        "    input_ids.append(encoded_sent)\n",
        "\n",
        "# Pad our input tokens\n",
        "input_ids = pad_sequences(input_ids, maxlen=MAX_LEN, \n",
        "                          dtype=\"long\", truncating=\"post\", padding=\"post\")\n",
        "\n",
        "# Create attention masks\n",
        "attention_masks = []\n",
        "\n",
        "# Create a mask of 1s for each token followed by 0s for padding\n",
        "for seq in input_ids:\n",
        "  seq_mask = [float(i>0) for i in seq]\n",
        "  attention_masks.append(seq_mask) \n",
        "\n",
        "# Convert to tensors.\n",
        "prediction_inputs = torch.tensor(input_ids)\n",
        "prediction_masks = torch.tensor(attention_masks)\n",
        "prediction_labels = torch.tensor(labels)\n",
        "\n",
        "# Set the batch size.  \n",
        "batch_size = 32  \n",
        "\n",
        "# Create the DataLoader.\n",
        "prediction_data = TensorDataset(prediction_inputs, prediction_masks, prediction_labels)\n",
        "prediction_sampler = SequentialSampler(prediction_data)\n",
        "prediction_dataloader = DataLoader(prediction_data, sampler=prediction_sampler, batch_size=batch_size)"
      ]
    },
    {
      "cell_type": "markdown",
      "metadata": {
        "id": "16lctEOyNFik"
      },
      "source": [
        "## 5.2. Evaluate on Test Set\n"
      ]
    },
    {
      "cell_type": "markdown",
      "metadata": {
        "id": "rhR99IISNMg9"
      },
      "source": [
        "\n",
        "With the test set prepared, we can apply our fine-tuned model to generate predictions on the test set."
      ]
    },
    {
      "cell_type": "code",
      "execution_count": 159,
      "metadata": {
        "id": "Hba10sXR7Xi6",
        "colab": {
          "base_uri": "https://localhost:8080/"
        },
        "outputId": "968cf40c-e09e-4313-d25a-51779100eaf8"
      },
      "outputs": [
        {
          "output_type": "stream",
          "name": "stdout",
          "text": [
            "Predicting labels for 23,778 test sentences...\n",
            "    DONE.\n"
          ]
        }
      ],
      "source": [
        "# Prediction on test set\n",
        "\n",
        "print('Predicting labels for {:,} test sentences...'.format(len(prediction_inputs)))\n",
        "\n",
        "# Put model in evaluation mode\n",
        "model.eval()\n",
        "\n",
        "# Tracking variables \n",
        "predictions , true_labels = [], []\n",
        "\n",
        "# Predict \n",
        "for batch in prediction_dataloader:\n",
        "  # Add batch to GPU\n",
        "  batch = tuple(t.to(device) for t in batch)\n",
        "  \n",
        "  # Unpack the inputs from our dataloader\n",
        "  b_input_ids, b_input_mask, b_labels = batch\n",
        "  \n",
        "  # Telling the model not to compute or store gradients, saving memory and \n",
        "  # speeding up prediction\n",
        "  with torch.no_grad():\n",
        "      # Forward pass, calculate logit predictions\n",
        "      outputs = model(b_input_ids, token_type_ids=None, \n",
        "                      attention_mask=b_input_mask)\n",
        "\n",
        "  logits = outputs[0]\n",
        "\n",
        "  # Move logits and labels to CPU\n",
        "  logits = logits.detach().cpu().numpy()\n",
        "  label_ids = b_labels.to('cpu').numpy()\n",
        "  \n",
        "  # Store predictions and true labels\n",
        "  predictions.append(logits)\n",
        "  true_labels.append(label_ids)\n",
        "\n",
        "print('    DONE.')"
      ]
    },
    {
      "cell_type": "markdown",
      "metadata": {
        "id": "-5jscIM8R4Gv"
      },
      "source": [
        "Accuracy on the CoLA benchmark is measured using the \"[Matthews correlation coefficient](https://scikit-learn.org/stable/modules/generated/sklearn.metrics.matthews_corrcoef.html)\" (MCC).\n",
        "\n",
        "We use MCC here because the classes are imbalanced:\n"
      ]
    },
    {
      "cell_type": "code",
      "execution_count": 160,
      "metadata": {
        "id": "cRaZQ4XC7kLs",
        "colab": {
          "base_uri": "https://localhost:8080/"
        },
        "outputId": "1d7a7bda-81e2-450d-b376-c2ef79334ff3"
      },
      "outputs": [
        {
          "output_type": "stream",
          "name": "stdout",
          "text": [
            "Calculating Matthews Corr. Coef. for each batch...\n"
          ]
        }
      ],
      "source": [
        "from sklearn.metrics import matthews_corrcoef\n",
        "\n",
        "matthews_set = []\n",
        "\n",
        "# Evaluate each test batch using Matthew's correlation coefficient\n",
        "print('Calculating Matthews Corr. Coef. for each batch...')\n",
        "\n",
        "# For each input batch...\n",
        "for i in range(len(true_labels)):\n",
        "  \n",
        "  # The predictions for this batch are a 2-column ndarray (one column for \"0\" \n",
        "  # and one column for \"1\"). Pick the label with the highest value and turn this\n",
        "  # in to a list of 0s and 1s.\n",
        "  pred_labels_i = np.argmax(predictions[i], axis=1).flatten()\n",
        "  \n",
        "  # Calculate and store the coef for this batch.  \n",
        "  matthews = matthews_corrcoef(true_labels[i], pred_labels_i)                \n",
        "  matthews_set.append(matthews)"
      ]
    },
    {
      "cell_type": "markdown",
      "metadata": {
        "id": "IUM0UA1qJaVB"
      },
      "source": [
        "The final score will be based on the entire test set, but let's take a look at the scores on the individual batches to get a sense of the variability in the metric between batches. \n",
        "\n",
        "Each batch has 32 sentences in it, except the last batch which has only (516 % 32) = 4 test sentences in it.\n"
      ]
    },
    {
      "cell_type": "code",
      "execution_count": 161,
      "metadata": {
        "id": "xytAr_C48wnu",
        "colab": {
          "base_uri": "https://localhost:8080/"
        },
        "outputId": "400f7974-2c89-4e77-b0f7-457a8f48c7e5"
      },
      "outputs": [
        {
          "output_type": "execute_result",
          "data": {
            "text/plain": [
              "[0.7653851998462481,\n",
              " 0.7953283574457052,\n",
              " 0.7926995003304814,\n",
              " 0.8435986180200243,\n",
              " 0.8074216046076096,\n",
              " 0.8094655629767161,\n",
              " 0.6473072689415211,\n",
              " 0.8844332774281066,\n",
              " 0.8049844718999243,\n",
              " 0.7935493241080782,\n",
              " 0.7132650378943385,\n",
              " 0.9241550874718228,\n",
              " 0.7989763271558794,\n",
              " 0.6739713106215786,\n",
              " 0.7995588494477918,\n",
              " 0.8390428205736663,\n",
              " 0.8829516539440203,\n",
              " 0.8165008566631842,\n",
              " 0.6495746713474536,\n",
              " 0.8789987222126162,\n",
              " 0.764682501573885,\n",
              " 0.8456893241210796,\n",
              " 0.8041896314847823,\n",
              " 0.6793981107357074,\n",
              " 0.802031508845638,\n",
              " 0.8382930688664647,\n",
              " 0.7463809909462535,\n",
              " 0.8443439654157551,\n",
              " 0.806896943336232,\n",
              " 0.877580234289283,\n",
              " 0.781018408296732,\n",
              " 0.8786979087245134,\n",
              " 0.6710405736036305,\n",
              " 0.8428102346099912,\n",
              " 0.8385304540527009,\n",
              " 0.8812910562259505,\n",
              " 0.7218854714439663,\n",
              " 0.9224210650926269,\n",
              " 0.751991816091275,\n",
              " 0.7806985154271602,\n",
              " 0.8045213852480676,\n",
              " 0.6980373615167458,\n",
              " 0.7273904040821978,\n",
              " 0.6949574752807909,\n",
              " 0.8245925148496291,\n",
              " 0.7741054574236444,\n",
              " 0.6866465138304774,\n",
              " 0.8196849704530728,\n",
              " 0.7360502300970095,\n",
              " 0.6355831319660297,\n",
              " 0.805220834138406,\n",
              " 0.8009950248756219,\n",
              " 0.8058786787814475,\n",
              " 0.7215243825925141,\n",
              " 0.7678555373822994,\n",
              " 0.6386117914884762,\n",
              " 0.7839455490913158,\n",
              " 0.7317299913455124,\n",
              " 0.8378094700059067,\n",
              " 0.6808876455366846,\n",
              " 0.8800007325711541,\n",
              " 0.6762308775852869,\n",
              " 0.9580593152152744,\n",
              " 0.8173907250970611,\n",
              " 0.7615486583943566,\n",
              " 0.846260578323344,\n",
              " 0.7995210950746693,\n",
              " 0.6945187886504809,\n",
              " 0.8819346024221909,\n",
              " 0.8367416638496364,\n",
              " 0.8035804223596938,\n",
              " 0.7500424436207579,\n",
              " 0.7610550590839168,\n",
              " 0.7462740643482448,\n",
              " 0.8406419660529397,\n",
              " 0.7208104009769845,\n",
              " 0.754869527717187,\n",
              " 0.7126868040171328,\n",
              " 0.925046253469039,\n",
              " 0.8044579099449262,\n",
              " 0.6195197130921631,\n",
              " 0.8817604909935425,\n",
              " 0.7920703495248962,\n",
              " 0.9603069208245509,\n",
              " 0.7565664349704775,\n",
              " 0.7115284684072021,\n",
              " 0.9200926841393996,\n",
              " 0.7274974704302789,\n",
              " 0.6863569376276931,\n",
              " 0.8799164415499134,\n",
              " 0.7659070594229598,\n",
              " 0.8824257425742574,\n",
              " 0.6350066376852931,\n",
              " 0.6888315463906334,\n",
              " 0.8823237222928897,\n",
              " 0.8020182921644234,\n",
              " 0.8015303081842704,\n",
              " 0.8740157480314961,\n",
              " 0.6288261264429916,\n",
              " 0.8865777750053863,\n",
              " 0.8033641839305159,\n",
              " 0.8047125264180933,\n",
              " 0.8783675557430415,\n",
              " 0.7082938691032041,\n",
              " 0.8370280908094886,\n",
              " 0.7192013002054863,\n",
              " 0.7969099625301241,\n",
              " 0.8690655533740714,\n",
              " 0.7644710539717363,\n",
              " 0.6997308443560082,\n",
              " 0.5641344599712519,\n",
              " 0.7621567426193298,\n",
              " 0.9179460166386826,\n",
              " 0.7971887097784383,\n",
              " 0.795839424513758,\n",
              " 0.8388884110737055,\n",
              " 0.7492425337338112,\n",
              " 0.8529576043489067,\n",
              " 0.7635497614744692,\n",
              " 0.8776437347619489,\n",
              " 0.8088840892862975,\n",
              " 0.7989815667400261,\n",
              " 0.7877738292655658,\n",
              " 0.8389203120738961,\n",
              " 0.652690772690441,\n",
              " 0.5064834826019753,\n",
              " 0.8012846853583249,\n",
              " 0.9172149837558815,\n",
              " 0.6382428940568475,\n",
              " 0.7207552871765929,\n",
              " 0.8022836059553945,\n",
              " 0.7573117284125584,\n",
              " 0.6364795918367347,\n",
              " 0.7687289797497571,\n",
              " 0.6290093833979942,\n",
              " 0.792150517166937,\n",
              " 0.9207281576413058,\n",
              " 0.7958560676304017,\n",
              " 0.8820750745769056,\n",
              " 0.637058989297032,\n",
              " 0.879444456974778,\n",
              " 0.80465085727548,\n",
              " 0.7122782279487186,\n",
              " 0.572181230979955,\n",
              " 0.6807767027888456,\n",
              " 0.8375085950200825,\n",
              " 0.8731230566048634,\n",
              " 0.5521750855418139,\n",
              " 0.7724303227342086,\n",
              " 0.6314419970281524,\n",
              " 0.8466102019882544,\n",
              " 0.7589285714285714,\n",
              " 0.84010955338971,\n",
              " 0.8045213852480676,\n",
              " 0.8009950248756219,\n",
              " 0.808752527355597,\n",
              " 0.79379101120543,\n",
              " 0.834885045018758,\n",
              " 0.8010482177311588,\n",
              " 0.8788688983631292,\n",
              " 0.8010197320280319,\n",
              " 0.7519893622934617,\n",
              " 0.8361794647638989,\n",
              " 0.7020447793248071,\n",
              " 0.8829695310174543,\n",
              " 0.7640503026622767,\n",
              " 0.7048495572728279,\n",
              " 0.7256017684013916,\n",
              " 0.5946573753907611,\n",
              " 0.7701223807475827,\n",
              " 0.8835030445911337,\n",
              " 0.6269141650587783,\n",
              " 0.8037422119124243,\n",
              " 0.8133098725831535,\n",
              " 0.8340270842684852,\n",
              " 0.7706984767191296,\n",
              " 0.7302849573663346,\n",
              " 0.8088159284453232,\n",
              " 0.7984797287802736,\n",
              " 0.7120217573209864,\n",
              " 0.7364491539829918,\n",
              " 0.7577147256193714,\n",
              " 0.7974268070507962,\n",
              " 0.7460794783282478,\n",
              " 0.8830942730881435,\n",
              " 0.6731976280080313,\n",
              " 0.8293333333333334,\n",
              " 0.9219018077769531,\n",
              " 0.761385485434175,\n",
              " 0.767110732562592,\n",
              " 0.8355986525989066,\n",
              " 0.8793741412366095,\n",
              " 0.8020330401270703,\n",
              " 0.8037322893528183,\n",
              " 0.7857257028270853,\n",
              " 0.8827865229832473,\n",
              " 0.7314468569588218,\n",
              " 0.8346916714364405,\n",
              " 0.7028323521594406,\n",
              " 0.6961874885113764,\n",
              " 0.8789274377673137,\n",
              " 0.9181282493470944,\n",
              " 0.7227243854285884,\n",
              " 0.8055236574875415,\n",
              " 0.7497493620141891,\n",
              " 0.8805970149253731,\n",
              " 0.7202623972698434,\n",
              " 0.6970989152557534,\n",
              " 0.8061153763734469,\n",
              " 0.7513464146588094,\n",
              " 0.7437042036448492,\n",
              " 0.665789961594328,\n",
              " 0.8072340101146469,\n",
              " 0.7165543449170949,\n",
              " 0.7564458113477374,\n",
              " 0.8792682363685254,\n",
              " 0.920151991520966,\n",
              " 0.6155798325193936,\n",
              " 0.8797786037169795,\n",
              " 0.7643415287924737,\n",
              " 0.7634549158406823,\n",
              " 0.8018824452332319,\n",
              " 0.7630922693266833,\n",
              " 0.6903161509389417,\n",
              " 0.9202075180364416,\n",
              " 0.843437032695571,\n",
              " 0.6659324433272306,\n",
              " 0.8826803980708641,\n",
              " 0.6751641660916725,\n",
              " 0.8008081968428481,\n",
              " 0.8340333826435881,\n",
              " 0.7785969857139753,\n",
              " 0.8520408163265306,\n",
              " 0.727056099853784,\n",
              " 0.8378735971054734,\n",
              " 0.9168831168831169,\n",
              " 0.7224389993618401,\n",
              " 0.671393982473886,\n",
              " 0.8798567108358295,\n",
              " 0.6776737055589046,\n",
              " 0.8610194346580045,\n",
              " 0.7995035659515111,\n",
              " 0.7209259712973576,\n",
              " 0.8005690559374665,\n",
              " 0.673500487348163,\n",
              " 0.8814825547070534,\n",
              " 0.7165224300500703,\n",
              " 0.9588524799220415,\n",
              " 0.6797520740292815,\n",
              " 0.7995210950746693,\n",
              " 0.6840520512120549,\n",
              " 0.7601228229376008,\n",
              " 0.8110194839928834,\n",
              " 0.7273210213101327,\n",
              " 0.5740927720010311,\n",
              " 0.6981617282098468,\n",
              " 0.8128411420806316,\n",
              " 0.8313270542541347,\n",
              " 0.7211178163971604,\n",
              " 0.7641126116717355,\n",
              " 0.8826010851052873,\n",
              " 0.8010145850621158,\n",
              " 0.8497154776163703,\n",
              " 0.7465819705411441,\n",
              " 0.6445232245284913,\n",
              " 0.9608861598928808,\n",
              " 0.7490153543331284,\n",
              " 0.8029310608408867,\n",
              " 0.8441586917190605,\n",
              " 0.8251479549503746,\n",
              " 0.7641251716906012,\n",
              " 0.9220483218571238,\n",
              " 0.7951919926584562,\n",
              " 0.512783679382495,\n",
              " 0.8751583420903777,\n",
              " 0.6993850705057185,\n",
              " 0.7294057829184887,\n",
              " 0.9221367495411512,\n",
              " 0.7261601585401204,\n",
              " 0.8419134412144388,\n",
              " 0.7655213195344598,\n",
              " 0.7969407153714722,\n",
              " 0.6534414400583107,\n",
              " 0.6952920459305176,\n",
              " 0.8779036341213156,\n",
              " 0.6657577818995845,\n",
              " 0.6853873670784738,\n",
              " 0.8386209718636413,\n",
              " 0.8402508381956161,\n",
              " 0.8466212390976092,\n",
              " 0.7025578368570136,\n",
              " 0.650516096306267,\n",
              " 0.866050673804277,\n",
              " 0.7227305447620824,\n",
              " 0.7220835440384541,\n",
              " 0.6791801075023544,\n",
              " 0.7570728654404216,\n",
              " 0.8831658291457286,\n",
              " 0.7622176779394977,\n",
              " 0.8789816049186266,\n",
              " 0.8364590895704795,\n",
              " 0.8044284409155318,\n",
              " 0.8392222796471455,\n",
              " 0.8397684353311137,\n",
              " 0.8354950317338506,\n",
              " 0.7654320987654321,\n",
              " 0.7992469372703432,\n",
              " 0.9214794699818862,\n",
              " 0.8190535162417916,\n",
              " 0.7486945803291588,\n",
              " 0.8081947161518128,\n",
              " 0.7205513784461153,\n",
              " 0.8418437412040368,\n",
              " 0.6457319598351335,\n",
              " 0.8787061994609164,\n",
              " 0.916670088207318,\n",
              " 0.7418946015191977,\n",
              " 0.628257316979119,\n",
              " 0.8405494284110169,\n",
              " 0.8039463571534607,\n",
              " 0.6477852161730406,\n",
              " 0.6881272440380862,\n",
              " 0.7081328896858771,\n",
              " 0.7782174862480967,\n",
              " 0.8078118936716079,\n",
              " 0.6952650262220451,\n",
              " 0.7893304625791607,\n",
              " 0.7607692456224532,\n",
              " 0.8355467059789898,\n",
              " 0.733324108137364,\n",
              " 0.8012635666293044,\n",
              " 0.8813778981632724,\n",
              " 0.7583602110993252,\n",
              " 0.9594273711967015,\n",
              " 0.7141868589484529,\n",
              " 0.8433350031529253,\n",
              " 0.6813183008467422,\n",
              " 0.8457398828050434,\n",
              " 0.6793124231568592,\n",
              " 0.6348392381598355,\n",
              " 0.8416534100952338,\n",
              " 0.7634296067884668,\n",
              " 0.9190981432360743,\n",
              " 0.7222609749813484,\n",
              " 0.9156022470410851,\n",
              " 0.8821448583550179,\n",
              " 0.9602251709068088,\n",
              " 0.6897597442811448,\n",
              " 0.7680663886218154,\n",
              " 0.8815867828276092,\n",
              " 0.7983819699922505,\n",
              " 0.7641790696767037,\n",
              " 0.7256948115910304,\n",
              " 0.7994858611825193,\n",
              " 0.7656858036998182,\n",
              " 0.7253898462862083,\n",
              " 0.7651932272998012,\n",
              " 0.924879652748961,\n",
              " 0.8458605589361856,\n",
              " 0.8380129308565905,\n",
              " 0.8779339239648781,\n",
              " 0.8817050788976132,\n",
              " 0.8426120403492849,\n",
              " 0.6681390697693883,\n",
              " 0.8829396634817487,\n",
              " 0.8049695651941482,\n",
              " 0.7228427232559671,\n",
              " 0.5668095358443082,\n",
              " 0.718267532017283,\n",
              " 0.7940654336251546,\n",
              " 0.8450237666276593,\n",
              " 0.7915572049328924,\n",
              " 0.7182372217532227,\n",
              " 0.8846513886894888,\n",
              " 0.7447217844548353,\n",
              " 0.756105137531028,\n",
              " 0.7272871236290109,\n",
              " 0.7664361354204713,\n",
              " 0.7854662389952394,\n",
              " 0.8801278154490532,\n",
              " 0.8382335640810166,\n",
              " 0.7982427165465894,\n",
              " 0.7577147256193714,\n",
              " 0.7670190231136265,\n",
              " 0.9607718093634642,\n",
              " 1.0,\n",
              " 0.6815055556875406,\n",
              " 0.6068011580768066,\n",
              " 0.7925608724595359,\n",
              " 0.8439772971653524,\n",
              " 0.5250359858195085,\n",
              " 0.720134897422936,\n",
              " 0.8841758629674111,\n",
              " 0.8742097602726695,\n",
              " 0.7758709133694568,\n",
              " 0.8288680695961775,\n",
              " 0.6756242084912348,\n",
              " 0.7102294740982366,\n",
              " 0.7331439149307589,\n",
              " 0.7216716263183606,\n",
              " 0.810324527866543,\n",
              " 0.8434789116772016,\n",
              " 0.6296779435406499,\n",
              " 0.8057952796497292,\n",
              " 0.8048267470600793,\n",
              " 0.8206907306224936,\n",
              " 0.721959918179948,\n",
              " 0.7892612579705997,\n",
              " 0.9613051193626684,\n",
              " 0.8806011722873397,\n",
              " 0.7984886649874056,\n",
              " 0.7643967069404443,\n",
              " 0.880939948393733,\n",
              " 0.7277250016117178,\n",
              " 0.8740453088291456,\n",
              " 0.9190024769820966,\n",
              " 0.9599165882875345,\n",
              " 0.6520276475417766,\n",
              " 0.6919191919191919,\n",
              " 0.8131412311659661,\n",
              " 0.7208605821308942,\n",
              " 0.7483849247251059,\n",
              " 0.8374216011208727,\n",
              " 0.7777872616004089,\n",
              " 0.8822165969075383,\n",
              " 0.8831686168594566,\n",
              " 0.7953070644763054,\n",
              " 0.7617905457055212,\n",
              " 0.5982318049936318,\n",
              " 0.7214560258563006,\n",
              " 0.839310293573155,\n",
              " 0.6394334302387397,\n",
              " 0.8822861460077084,\n",
              " 0.9177576974390089,\n",
              " 0.8051390986154618,\n",
              " 0.7683253535044778,\n",
              " 0.7915074341184928,\n",
              " 0.6828163987042931,\n",
              " 0.7995419629435722,\n",
              " 0.7992254799686602,\n",
              " 0.6872902035921981,\n",
              " 0.9174568616270767,\n",
              " 0.8054535682343181,\n",
              " 0.8808037046106488,\n",
              " 0.8428213051011971,\n",
              " 0.8396491418301717,\n",
              " 0.761541518976082,\n",
              " 0.7845301593819217,\n",
              " 0.8042970198108278,\n",
              " 0.7957140868397259,\n",
              " 0.8497980654152997,\n",
              " 0.712456751213434,\n",
              " 0.6377634028471637,\n",
              " 0.8468923583706885,\n",
              " 0.9242424242424242,\n",
              " 0.7997582595325636,\n",
              " 0.8431369362490204,\n",
              " 0.9173980758089487,\n",
              " 0.7914730155141619,\n",
              " 0.7595419847328244,\n",
              " 0.880738822216529,\n",
              " 0.878953937596682,\n",
              " 0.7430559228925667,\n",
              " 0.678165897215147,\n",
              " 0.8005050505050505,\n",
              " 0.8025419329860821,\n",
              " 0.7745918017430198,\n",
              " 0.7999175909272389,\n",
              " 0.7671286413355456,\n",
              " 0.6581465806883366,\n",
              " 0.6916265931475527,\n",
              " 0.7992469372703432,\n",
              " 0.807327836780455,\n",
              " 0.9190717267806947,\n",
              " 0.7655246575636528,\n",
              " 0.7636162006707992,\n",
              " 0.8844332774281066,\n",
              " 1.0,\n",
              " 0.7574706592728333,\n",
              " 0.79115480528524,\n",
              " 0.8887527773567688,\n",
              " 0.8073150304887768,\n",
              " 0.8415776931433753,\n",
              " 0.8425158187739378,\n",
              " 0.7572530283680632,\n",
              " 0.8014030773348734,\n",
              " 0.8332363289427,\n",
              " 0.8366103572535594,\n",
              " 0.8829163531911042,\n",
              " 0.594577543285393,\n",
              " 0.91688654353562,\n",
              " 0.7652308911338978,\n",
              " 0.840462873010516,\n",
              " 0.8040975625044361,\n",
              " 0.5612537103457413,\n",
              " 0.694132875520102,\n",
              " 0.6369690527481974,\n",
              " 0.8090398349558905,\n",
              " 0.7621472865216784,\n",
              " 0.8035049616511407,\n",
              " 0.7200520833333334,\n",
              " 0.8753315649867374,\n",
              " 0.7558739800883899,\n",
              " 0.9202676566643314,\n",
              " 0.7602135010653698,\n",
              " 0.8759910558668708,\n",
              " 0.9185750636132316,\n",
              " 0.8886281631150137,\n",
              " 0.8005685069163835,\n",
              " 0.9223244361578254,\n",
              " 0.7573491093193637,\n",
              " 0.8423769240254196,\n",
              " 0.6392732851619932,\n",
              " 0.8733333333333333,\n",
              " 0.7649153565693946,\n",
              " 0.8880844312986292,\n",
              " 0.7207826581502482,\n",
              " 0.8357431657145281,\n",
              " 0.7667580845361444,\n",
              " 0.7576239741922585,\n",
              " 0.8104745512391749,\n",
              " 0.7173781564268298,\n",
              " 0.666509732766152,\n",
              " 0.8037570964409202,\n",
              " 0.8438720020101818,\n",
              " 0.6383269290884752,\n",
              " 0.8439113476020597,\n",
              " 0.7738913320399852,\n",
              " 0.7681880069119724,\n",
              " 0.9189927221034724,\n",
              " 0.8063316979105589,\n",
              " 0.7640503026622767,\n",
              " 0.630932770839435,\n",
              " 0.7334184531848442,\n",
              " 0.8097679107151166,\n",
              " 0.7594235524117469,\n",
              " 0.759255965093998,\n",
              " 0.8448378369162355,\n",
              " 0.8419078145210048,\n",
              " 0.8047026898787796,\n",
              " 0.6013352005002048,\n",
              " 0.8042647886091638,\n",
              " 0.6327542045744177,\n",
              " 0.6947061888540734,\n",
              " 0.8806782853247234,\n",
              " 0.8405090226257631,\n",
              " 0.8311287790665742,\n",
              " 0.6868811881188119,\n",
              " 0.8800183148277281,\n",
              " 0.6870324189526185,\n",
              " 0.7164972250585042,\n",
              " 0.8749276532044308,\n",
              " 0.801258495517434,\n",
              " 0.8002648158291386,\n",
              " 0.7532662751384184,\n",
              " 0.8788913430605603,\n",
              " 0.8383099045961218,\n",
              " 0.7521711802095058,\n",
              " 0.7752276585979168,\n",
              " 0.9231042342571021,\n",
              " 0.8763288271748647,\n",
              " 0.7497484534692976,\n",
              " 0.959812660607873,\n",
              " 0.8774200852615612,\n",
              " 0.837707816583391,\n",
              " 0.7622081261599783,\n",
              " 0.7286639165311549,\n",
              " 0.8375857152903811,\n",
              " 0.728287841191067,\n",
              " 0.7551306874816853,\n",
              " 0.7913385826771654,\n",
              " 0.7269349286884375,\n",
              " 0.8816568434147973,\n",
              " 0.6874083516625936,\n",
              " 0.8350840869298758,\n",
              " 0.7704075509885779,\n",
              " 0.8476374954838097,\n",
              " 0.8311569754313678,\n",
              " 0.6762917559491128,\n",
              " 0.7562405279722565,\n",
              " 0.8380905816237944,\n",
              " 0.7366131660136552,\n",
              " 0.8714678495659199,\n",
              " 0.6843245322542706,\n",
              " 0.9238608436906759,\n",
              " 0.7662184442131115,\n",
              " 0.771085454784271,\n",
              " 0.8298055006745688,\n",
              " 0.7150395778364116,\n",
              " 0.7634549158406823,\n",
              " 0.7070560587133506,\n",
              " 0.8826528823239046,\n",
              " 0.8777530514961694,\n",
              " 0.7096570740123347,\n",
              " 0.8811075875478239,\n",
              " 0.8498448805674148,\n",
              " 0.669332184334785,\n",
              " 0.7589384493881248,\n",
              " 0.7856246991161937,\n",
              " 0.8045137567272065,\n",
              " 0.9246493837360862,\n",
              " 0.8806560461144795,\n",
              " 0.8140394088669951,\n",
              " 0.8052992594766729,\n",
              " 0.7546035727057704,\n",
              " 0.8058555299254093,\n",
              " 0.8326707042955905,\n",
              " 0.776377356741882,\n",
              " 0.8240997229916898,\n",
              " 0.7127961633025588,\n",
              " 0.588723986943652,\n",
              " 0.7378565581282682,\n",
              " 0.805700779923928,\n",
              " 0.7376328011631285,\n",
              " 0.7421464633157825,\n",
              " 0.842005158427838,\n",
              " 0.9195378693307769,\n",
              " 0.9191110768040813,\n",
              " 0.7109760739670938,\n",
              " 0.9579122657491783,\n",
              " 0.7140500274291913,\n",
              " 0.8751650131538926,\n",
              " 0.5928447617376559,\n",
              " 0.8409761288428115,\n",
              " 0.762777440055846,\n",
              " 0.7211654810026985,\n",
              " 0.6940835398865045,\n",
              " 0.7142863058479895,\n",
              " 0.682916617578138,\n",
              " 0.7335952147726367,\n",
              " 0.7706119057008842,\n",
              " 0.6768196740846769,\n",
              " 0.7745985124287148,\n",
              " 0.6761566138188047,\n",
              " 0.7173643277613252,\n",
              " 0.8092546240645853,\n",
              " 0.8453745699943532,\n",
              " 0.8164125954225546,\n",
              " 0.7963473619314302,\n",
              " 0.7670609025488712,\n",
              " 0.7597538371178961,\n",
              " 0.629322649671084,\n",
              " 0.8742511185666383,\n",
              " 0.6195373843715636,\n",
              " 0.8073073470062863,\n",
              " 0.8763288271748647,\n",
              " 0.857148809356174,\n",
              " 0.7323232323232324,\n",
              " 0.7634370973775827,\n",
              " 0.7538885402621722,\n",
              " 0.8392089409074789,\n",
              " 0.79481591932915,\n",
              " 0.795908564120617,\n",
              " 0.8403637671705588,\n",
              " 0.8023077275074656,\n",
              " 0.7591431004449417,\n",
              " 0.8718323590345951,\n",
              " 0.7208643706558535,\n",
              " 0.9079351511603642,\n",
              " 0.7259079527665504,\n",
              " 0.8445299761493609,\n",
              " 0.8759910558668708,\n",
              " 0.7694491309458402,\n",
              " 0.8357299912106877,\n",
              " 0.796871631781041,\n",
              " 0.7456341326566109,\n",
              " 0.7221393691255349,\n",
              " 0.598216232224872,\n",
              " 0.8441672345816136,\n",
              " 0.7974996897589747,\n",
              " 0.6809589273094161,\n",
              " 0.8835443037974684,\n",
              " 0.7971964715150214,\n",
              " 0.6141675182960329,\n",
              " 0.7179864828594773,\n",
              " 0.6926895033157588,\n",
              " 0.8020516763542767,\n",
              " 0.8753401443386937,\n",
              " 0.8736733026639869,\n",
              " 0.7260934498538416,\n",
              " 0.7373191440631528,\n",
              " 0.7720252635818409,\n",
              " 0.8764696084595445,\n",
              " 0.7039464395351791,\n",
              " 0.720607402660214,\n",
              " 0.7610190698143565,\n",
              " 0.8080186889904454,\n",
              " 0.6735751295336787,\n",
              " 0.7983309043739476,\n",
              " 0.7310657748046717,\n",
              " 0.6912384988798316,\n",
              " 0.7540533144468484,\n",
              " 0.8410947673678467,\n",
              " 0.8434841181925249,\n",
              " 0.8048323839770971,\n",
              " 0.837707816583391,\n",
              " 0.8329081119209167,\n",
              " 0.7634596994377452,\n",
              " 0.7141236923350082,\n",
              " 0.919138379287514,\n",
              " 0.6768535485232142,\n",
              " 0.806979479846483,\n",
              " 0.6763157894736842,\n",
              " 0.7237522617293518,\n",
              " 0.7984496124031008,\n",
              " 0.8474049764507415,\n",
              " 0.8408156767971157,\n",
              " 0.8415776931433753,\n",
              " 0.8366362266035967,\n",
              " 0.7546950253456632,\n",
              " 0.841161144694929,\n",
              " 0.9192579666143642,\n",
              " 0.6732889604365986,\n",
              " 0.9251899092398296,\n",
              " 0.755231381517714,\n",
              " 0.6106420707381538,\n",
              " 0.7721149621597886,\n",
              " 0.9246159289719413,\n",
              " 0.8424573596640069,\n",
              " 0.8006242181407938,\n",
              " 0.8029925187032418,\n",
              " 0.8866921580800045,\n",
              " 0.7635869554776006,\n",
              " 0.7866119047196758,\n",
              " 0.598565748580704,\n",
              " 0.9124003650999829,\n",
              " 0.9237528867322815,\n",
              " 0.7191540606741296,\n",
              " 0.7552218981542699,\n",
              " 0.9177105704032728,\n",
              " 0.7215189873417721,\n",
              " 0.6537851470981304,\n",
              " 0.7272868262903408,\n",
              " 0.873747470053298,\n",
              " 0.7567874686642695,\n",
              " 0.7263964000500499,\n",
              " 0.8883249442227381,\n",
              " 0.878379076450728,\n",
              " 0.9234596051242574,\n",
              " 0.7962466487935657,\n",
              " 0.9605290384758154,\n",
              " 0.8411910669975186,\n",
              " 0.71283284303902,\n",
              " 1.0]"
            ]
          },
          "metadata": {},
          "execution_count": 161
        }
      ],
      "source": [
        "matthews_set"
      ]
    },
    {
      "cell_type": "code",
      "execution_count": 162,
      "metadata": {
        "id": "oCYZa1lQ8Jn8",
        "colab": {
          "base_uri": "https://localhost:8080/"
        },
        "outputId": "110d38bd-34db-4c91-ae3d-9d5e91eeb866"
      },
      "outputs": [
        {
          "output_type": "stream",
          "name": "stdout",
          "text": [
            "MCC: 0.786\n",
            "F1: 0.833\n"
          ]
        }
      ],
      "source": [
        "# Combine the predictions for each batch into a single list of 0s and 1s.\n",
        "flat_predictions = [item for sublist in predictions for item in sublist]\n",
        "flat_predictions = np.argmax(flat_predictions, axis=1).flatten()\n",
        "\n",
        "# Combine the correct labels for each batch into a single list.\n",
        "flat_true_labels = [item for sublist in true_labels for item in sublist]\n",
        "\n",
        "# Calculate the MCC\n",
        "mcc = matthews_corrcoef(flat_true_labels, flat_predictions)\n",
        "f1s = f1_score(flat_true_labels, flat_predictions, average='micro')\n",
        "print('MCC: %.3f' % mcc)\n",
        "print('F1: %.3f' % f1s)"
      ]
    },
    {
      "cell_type": "markdown",
      "metadata": {
        "id": "jXx0jPc4HUfZ"
      },
      "source": [
        "Cool! In about half an hour and without doing any hyperparameter tuning (adjusting the learning rate, epochs, batch size, ADAM properties, etc.) we are able to get a good score. I should also mention we didn't train on the entire training dataset, but set aside a portion of it as our validation set for legibililty of code.\n",
        "\n",
        "The library documents the expected accuracy for this benchmark [here](https://huggingface.co/transformers/examples.html#glue).\n",
        "\n",
        "You can also look at the official leaderboard [here](https://gluebenchmark.com/leaderboard/submission/zlssuBTm5XRs0aSKbFYGVIVdvbj1/-LhijX9VVmvJcvzKymxy). \n",
        "\n",
        "Note that (due to the small dataset size?) the accuracy can vary significantly with different random seeds.\n"
      ]
    },
    {
      "cell_type": "markdown",
      "metadata": {
        "id": "GfjYoa6WmkN6"
      },
      "source": [
        "# Conclusion"
      ]
    },
    {
      "cell_type": "markdown",
      "metadata": {
        "id": "xlQG7qgkmf4n"
      },
      "source": [
        "This post demonstrates that with a pre-trained BERT model you can quickly and effectively create a high quality model with minimal effort and training time using the pytorch interface, regardless of the specific NLP task you are interested in."
      ]
    },
    {
      "cell_type": "markdown",
      "metadata": {
        "id": "YUmsUOIv8EUO"
      },
      "source": [
        "# Appendix\n"
      ]
    },
    {
      "cell_type": "markdown",
      "metadata": {
        "id": "q2079Qyn8Mt8"
      },
      "source": [
        "## A1. Saving & Loading Fine-Tuned Model\n",
        "\n",
        "This first cell (taken from `run_glue.py` [here](https://github.com/huggingface/transformers/blob/35ff345fc9df9e777b27903f11fa213e4052595b/examples/run_glue.py#L495)) writes the model and tokenizer out to disk."
      ]
    },
    {
      "cell_type": "code",
      "execution_count": 163,
      "metadata": {
        "id": "6ulTWaOr8QNY",
        "colab": {
          "base_uri": "https://localhost:8080/"
        },
        "outputId": "7b33687b-eb41-4373-8d1b-564399fcc009"
      },
      "outputs": [
        {
          "output_type": "stream",
          "name": "stdout",
          "text": [
            "Saving model to ./model_save/\n"
          ]
        },
        {
          "output_type": "execute_result",
          "data": {
            "text/plain": [
              "('./model_save/tokenizer_config.json',\n",
              " './model_save/special_tokens_map.json',\n",
              " './model_save/vocab.txt',\n",
              " './model_save/added_tokens.json')"
            ]
          },
          "metadata": {},
          "execution_count": 163
        }
      ],
      "source": [
        "import os\n",
        "\n",
        "# Saving best-practices: if you use defaults names for the model, you can reload it using from_pretrained()\n",
        "\n",
        "output_dir = './model_save/'\n",
        "\n",
        "# Create output directory if needed\n",
        "if not os.path.exists(output_dir):\n",
        "    os.makedirs(output_dir)\n",
        "\n",
        "print(\"Saving model to %s\" % output_dir)\n",
        "\n",
        "# Save a trained model, configuration and tokenizer using `save_pretrained()`.\n",
        "# They can then be reloaded using `from_pretrained()`\n",
        "model_to_save = model.module if hasattr(model, 'module') else model  # Take care of distributed/parallel training\n",
        "model_to_save.save_pretrained(output_dir)\n",
        "tokenizer.save_pretrained(output_dir)\n",
        "\n",
        "# Good practice: save your training arguments together with the trained model\n",
        "# torch.save(args, os.path.join(output_dir, 'training_args.bin'))\n"
      ]
    },
    {
      "cell_type": "markdown",
      "metadata": {
        "id": "Z-tjHkR7lc1I"
      },
      "source": [
        "Let's check out the file sizes, out of curiosity."
      ]
    },
    {
      "cell_type": "code",
      "execution_count": null,
      "metadata": {
        "id": "mqMzI3VTCZo5"
      },
      "outputs": [],
      "source": [
        "!ls -l --block-size=K ./model_save/"
      ]
    },
    {
      "cell_type": "markdown",
      "metadata": {
        "id": "fr_bt2rFlgDn"
      },
      "source": [
        "The largest file is the model weights, at around 418 megabytes."
      ]
    },
    {
      "cell_type": "code",
      "execution_count": null,
      "metadata": {
        "id": "-WUFUIQ8Cu8D"
      },
      "outputs": [],
      "source": [
        "!ls -l --block-size=M ./model_save/pytorch_model.bin"
      ]
    },
    {
      "cell_type": "markdown",
      "metadata": {
        "id": "dzGKvOFAll_e"
      },
      "source": [
        "To save your model across Colab Notebook sessions, download it to your local machine, or ideally copy it to your Google Drive."
      ]
    },
    {
      "cell_type": "code",
      "execution_count": null,
      "metadata": {
        "id": "Trr-A-POC18_"
      },
      "outputs": [],
      "source": [
        "# Mount Google Drive to this Notebook instance.\n",
        "from google.colab import drive\n",
        "    drive.mount('/content/drive')"
      ]
    },
    {
      "cell_type": "code",
      "execution_count": null,
      "metadata": {
        "id": "NxlZsafTC-V5"
      },
      "outputs": [],
      "source": [
        "# Copy the model files to a directory in your Google Drive.\n",
        "!cp -r ./model_save/ \"./drive/Shared drives/ChrisMcCormick.AI/Blog Posts/BERT Fine-Tuning/\""
      ]
    },
    {
      "cell_type": "markdown",
      "metadata": {
        "id": "W0vstijw85SZ"
      },
      "source": [
        "The following functions will load the model back from disk."
      ]
    },
    {
      "cell_type": "code",
      "execution_count": null,
      "metadata": {
        "id": "nskPzUM084zL"
      },
      "outputs": [],
      "source": [
        "# Load a trained model and vocabulary that you have fine-tuned\n",
        "model = model_class.from_pretrained(output_dir)\n",
        "tokenizer = tokenizer_class.from_pretrained(output_dir)\n",
        "\n",
        "# Copy the model to the GPU.\n",
        "model.to(device)"
      ]
    },
    {
      "cell_type": "markdown",
      "metadata": {
        "id": "NIWouvDrGVAi"
      },
      "source": [
        "## A.2. Weight Decay\n",
        "\n"
      ]
    },
    {
      "cell_type": "markdown",
      "metadata": {
        "id": "f123ZAlF1OyW"
      },
      "source": [
        "The huggingface example includes the following code block for enabling weight decay, but the default decay rate is \"0.0\", so I moved this to the appendix.\n",
        "\n",
        "This block essentially tells the optimizer to not apply weight decay to the bias terms (e.g., $ b $ in the equation $ y = Wx + b $ ). Weight decay is a form of regularization--after calculating the gradients, we multiply them by, e.g., 0.99."
      ]
    },
    {
      "cell_type": "code",
      "execution_count": null,
      "metadata": {
        "id": "QxSMw0FrptiL"
      },
      "outputs": [],
      "source": [
        "# This code is taken from:\n",
        "# https://github.com/huggingface/transformers/blob/5bfcd0485ece086ebcbed2d008813037968a9e58/examples/run_glue.py#L102\n",
        "\n",
        "# Don't apply weight decay to any parameters whose names include these tokens.\n",
        "# (Here, the BERT doesn't have `gamma` or `beta` parameters, only `bias` terms)\n",
        "no_decay = ['bias', 'LayerNorm.weight']\n",
        "\n",
        "# Separate the `weight` parameters from the `bias` parameters. \n",
        "# - For the `weight` parameters, this specifies a 'weight_decay_rate' of 0.01. \n",
        "# - For the `bias` parameters, the 'weight_decay_rate' is 0.0. \n",
        "optimizer_grouped_parameters = [\n",
        "    # Filter for all parameters which *don't* include 'bias', 'gamma', 'beta'.\n",
        "    {'params': [p for n, p in param_optimizer if not any(nd in n for nd in no_decay)],\n",
        "     'weight_decay_rate': 0.1},\n",
        "    \n",
        "    # Filter for parameters which *do* include those.\n",
        "    {'params': [p for n, p in param_optimizer if any(nd in n for nd in no_decay)],\n",
        "     'weight_decay_rate': 0.0}\n",
        "]\n",
        "\n",
        "# Note - `optimizer_grouped_parameters` only includes the parameter values, not \n",
        "# the names."
      ]
    }
  ],
  "metadata": {
    "accelerator": "GPU",
    "colab": {
      "collapsed_sections": [],
      "name": "BERT_Fine_Tuning_Sentence_ClassificationExam.ipynb",
      "provenance": [],
      "toc_visible": true
    },
    "kernelspec": {
      "display_name": "Python 3",
      "language": "python",
      "name": "python3"
    },
    "language_info": {
      "codemirror_mode": {
        "name": "ipython",
        "version": 3
      },
      "file_extension": ".py",
      "mimetype": "text/x-python",
      "name": "python",
      "nbconvert_exporter": "python",
      "pygments_lexer": "ipython3",
      "version": "3.7.4"
    }
  },
  "nbformat": 4,
  "nbformat_minor": 0
}